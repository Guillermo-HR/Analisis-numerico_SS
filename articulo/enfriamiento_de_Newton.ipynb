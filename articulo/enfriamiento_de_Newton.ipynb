{
 "cells": [
  {
   "cell_type": "markdown",
   "metadata": {},
   "source": [
    "# Métodos numéricos para resolver el problema de enfriamiento de Newton"
   ]
  },
  {
   "cell_type": "markdown",
   "metadata": {},
   "source": [
    "Al sacar un pastel del horno, su temperatura es 160 °C. Tres minutos depués,\n",
    "su temperatura es de 90°C. ¿Cuánto tiempo le tomará al pastel enfriarse hasta\n",
    "la temperatura de 30 °C?. Considere una temperatura ambiente de 20 °C."
   ]
  },
  {
   "cell_type": "markdown",
   "metadata": {},
   "source": [
    "Se presentan los siguientes métodos:\n",
    "* Euler\n",
    "* Euler modificado\n",
    "* Runge-Kutta de orden 4"
   ]
  },
  {
   "cell_type": "markdown",
   "metadata": {},
   "source": [
    "Si no tienes instaladas las bibliotecas necesarias, ejecuta la celda 'Instalar bibliotecas'. Si estas trabajando en el entorno se jupyterhub que ya esta configurado, no es necesario realizar este paso."
   ]
  },
  {
   "cell_type": "code",
   "execution_count": 2,
   "metadata": {},
   "outputs": [],
   "source": [
    "# Instalar bibliotecas\n",
    "!pip install metodos_numericos_dcb_fi -U -q"
   ]
  },
  {
   "cell_type": "markdown",
   "metadata": {},
   "source": [
    "Para importar las bibliotecas necesarias, ejecuta la celda 'Importar las bibliotecas'."
   ]
  },
  {
   "cell_type": "code",
   "execution_count": 3,
   "metadata": {},
   "outputs": [],
   "source": [
    "# Importar las bibliotecas\n",
    "from sympy import lambdify, sympify # ¡¡¡NO MODIFICAR!!!\n",
    "from sympy.abc import t, T # ¡¡¡NO MODIFICAR!!!\n",
    "import plotly.express as px # ¡¡¡NO MODIFICAR!!!\n",
    "import plotly.graph_objects as go # ¡¡¡NO MODIFICAR!!!\n",
    "import numpy as np # ¡¡¡NO MODIFICAR!!!\n",
    "import metodos_numericos_dcb_fi.utilidades as ut # ¡¡¡NO MODIFICAR!!!\n",
    "from ipywidgets import interact, FloatText, IntText # ¡¡¡NO MODIFICAR!!!"
   ]
  },
  {
   "cell_type": "markdown",
   "metadata": {},
   "source": [
    "### Caracterisación del problema, definicion del modelo matemático y constantes para los métodos numéricos"
   ]
  },
  {
   "cell_type": "markdown",
   "metadata": {},
   "source": [
    "En esta celda puedes editar los parámetros y condificiones del problema. Es importante que la ejecutes al principio para que los cambios tengan efecto en todo el código. Si quieres volver a los valores originales, solo tienes que ejecutar esta celda nuevamente."
   ]
  },
  {
   "cell_type": "code",
   "execution_count": null,
   "metadata": {},
   "outputs": [],
   "source": [
    "global t_0, t_f, valores_t, t_ambiente, k, C, f_real, f_sol_analitica, h, n_pasos, y_0\n",
    "def modificar_valores(t_0_u, t_f_u, t_ambiente_u, k_u, h_u):\n",
    "    global t_0, t_f, valores_t, t_ambiente, k, C, f_real, f_sol_analitica, h, n_pasos, y_0\n",
    "    # valores de tiempo\n",
    "    ut.validarTiempo(t_0_u, t_f_u)\n",
    "    t_0 = t_0_u # tiempo inicial en segundos\n",
    "    t_f = t_f_u # tiempo final en segundos\n",
    "    valores_t = np.linspace(t_0, t_f, (t_f-t_0)*15) # vector de tiempo\n",
    "\n",
    "    # caracterizacion del problema\n",
    "    k = k_u # constante de enfriamiento\n",
    "    t_ambiente = t_ambiente_u # temperatura ambiente\n",
    "\n",
    "    # valores de las ecuaciones\n",
    "    C = 140 #! <- Como se obtiene este valor?\n",
    "    f_real = ut.convertirFuncion(f'-{k}*(T-{t_ambiente})', 'T')\n",
    "    f_sol_analitica = ut.convertirFuncion(f'{C}*exp(-{k}*t)+{t_ambiente}', 't')\n",
    "\n",
    "    # valores para los metodos numericos\n",
    "    h = h_u # tamaño del paso\n",
    "    n_pasos = int((t_f-t_0)/h) # numero de pasos\n",
    "    y_0 = f_sol_analitica.f(t_0) # Velocidad inicial\n",
    "\n",
    "interact(\n",
    "    modificar_valores,\n",
    "    t_0_u=IntText(value=0, description='Tiempo inicial (m):', style={'description_width': 'initial'}),\n",
    "    t_f_u=IntText(value=25, description='Tiempo final (m):', style={'description_width': 'initial'}),\n",
    "    t_ambiente_u=FloatText(value=20, description='T ambiente'),\n",
    "    k_u=FloatText(value=0.23105, description='k'),\n",
    "    h_u=FloatText(value=2, description='Tamaño de paso (min):', style={'description_width': 'initial'})\n",
    ")"
   ]
  },
  {
   "cell_type": "markdown",
   "metadata": {},
   "source": [
    "### Solucion analitica"
   ]
  },
  {
   "cell_type": "markdown",
   "metadata": {},
   "source": [
    "Para ver la solucion analitica del problema, ejecuta la siguiente celda. Es importante ejecutar esta celda para que este disponible en las siguientes celdas."
   ]
  },
  {
   "cell_type": "code",
   "execution_count": null,
   "metadata": {},
   "outputs": [],
   "source": [
    "def solucion_analitica(f_, valores_t, C, k, mostrar=True):\n",
    "    f = f_.f # Obtener la funcion evaluable\n",
    "    valores_y = list(map(lambda t: f(t), valores_t)) # Evaluar la función en el vector de tiempo\n",
    "\n",
    "    # Graficar\n",
    "    titulo = f'Enfriamiento de Newton<br>Solucion analítica: T(t)={round(C,3)}exp(-{round(k,3)}t)+{round(t_ambiente,3)}' # Titulo de la gráfica\n",
    "    eje_x = 't[min]' # Nombre del eje x\n",
    "    eje_y = 'T(t)[C]' # Nombre del eje y \n",
    "\n",
    "    return ut.graficar(valores=[valores_t, valores_y], titulo=titulo, labels=[eje_x, eje_y], metodo='Analitica', mostrar=mostrar) # Regresar gráfica de la solución analítica\n",
    "\n",
    "plot_Analitica = solucion_analitica(f_sol_analitica, valores_t, C, k) # Graficar solución analítica"
   ]
  },
  {
   "cell_type": "markdown",
   "metadata": {},
   "source": [
    "### Euler"
   ]
  },
  {
   "cell_type": "markdown",
   "metadata": {},
   "source": [
    "En esta celda se codifica el método de Euler. Ejecuta la celda para que este  disponible en las siguientes celdas."
   ]
  },
  {
   "cell_type": "code",
   "execution_count": null,
   "metadata": {},
   "outputs": [],
   "source": [
    "def metodo_euler(f_, t_0, y_0, h, n_pasos, mostrar=True):\n",
    "    f = f_.f # Obtener la función evaluable\n",
    "    valores_y_Euler = [y_0] # Lista de valores de y\n",
    "    valores_t = [t_0] # Vector de tiempo\n",
    "    \n",
    "    # Iterar sobre el número de pasos y aplicar el método de Euler\n",
    "    for i in range(n_pasos):\n",
    "        valores_t.append(valores_t[i] + h) # Agregar el valor de t a la lista\n",
    "        y_nueva = valores_y_Euler[i] + h * f(valores_y_Euler[i]) # Método de Euler\n",
    "        valores_y_Euler.append(y_nueva) # Agregar el valor de y a la lista\n",
    "\n",
    "    # Graficar\n",
    "    titulo = f'Enfriamiento de Newton<br>Método de Euler con h = {round(h,3)}, n = {n_pasos} y T(0) = {round(y_0,3)}' # ¡¡¡NO MODIFICAR!!!\n",
    "    eje_x = 't[min]' # Nombre del eje x\n",
    "    eje_y = 'T(t)[C]' # Nombre del eje y\n",
    "\n",
    "    return ut.graficar(valores=[valores_t, valores_y_Euler], titulo=titulo, labels=[eje_x, eje_y], metodo='Euler', mostrar=mostrar) # ¡¡¡NO MODIFICAR!!!\n",
    "\n",
    "grafica_metodo_euler=metodo_euler(f_real, t_0, y_0, h, n_pasos) # Graficar método de Euler"
   ]
  },
  {
   "cell_type": "markdown",
   "metadata": {},
   "source": [
    "### Euler modificado"
   ]
  },
  {
   "cell_type": "markdown",
   "metadata": {},
   "source": [
    "En esta celda se codifica el método de Euler modificado. Ejecuta la celda para que este  disponible en las siguientes celdas."
   ]
  },
  {
   "cell_type": "code",
   "execution_count": null,
   "metadata": {},
   "outputs": [],
   "source": [
    "def metodo_euler_mod(f_, t_0, y_0, h, n_pasos, mostrar=True):\n",
    "    f = f_.f # Obtener la función evaluable\n",
    "    valores_y_Euler_Mod = [y_0] # Lista de valores de y\n",
    "    valores_t = [t_0] # Vector de tiempo\n",
    "\n",
    "    # Iterar sobre el número de pasos y aplicar el método de Euler modificado\n",
    "    for i in range(n_pasos):\n",
    "        valores_t.append(valores_t[i] + h)\n",
    "        y_nueva = valores_y_Euler_Mod[i] + h * f(valores_y_Euler_Mod[i] + h/2 * f(valores_y_Euler_Mod[i])) # ¡¡¡NO MODIFICAR!!!\n",
    "        valores_y_Euler_Mod.append(y_nueva) # ¡¡¡NO MODIFICAR!!!\n",
    "\n",
    "    # Graficar\n",
    "    titulo = f'Enfriamiento de Newton<br>Método de Euler modificado con h = {round(h,3)}, n = {n_pasos} y N(0) = {round(y_0,3)}' # ¡¡¡NO MODIFICAR!!!\n",
    "    eje_x = 't[min]' # Nombre del eje x\n",
    "    eje_y = 'T(t)[C]' # Nombre del eje y\n",
    "\n",
    "    return ut.graficar(valores=[valores_t, valores_y_Euler_Mod], titulo=titulo, labels=[eje_x, eje_y], metodo='Euler M', mostrar=mostrar) # ¡¡¡NO MODIFICAR!!!\n",
    "\n",
    "grafica_Euler_Mod = metodo_euler_mod(f_real, t_0, y_0, h, n_pasos) # Graficar método de Euler modificado"
   ]
  },
  {
   "cell_type": "markdown",
   "metadata": {},
   "source": [
    "## Runge-Kutta de orden 4"
   ]
  },
  {
   "cell_type": "markdown",
   "metadata": {},
   "source": [
    "En esta celda se codifica el método de Rung-Kutta de 4 orden. Ejecuta la celda para que este  disponible en las siguientes celdas."
   ]
  },
  {
   "cell_type": "code",
   "execution_count": null,
   "metadata": {},
   "outputs": [],
   "source": [
    "def metodo_RK_4(f_, t_0, y_0, h, n_pasos, mostrar=True):\n",
    "    f = f_.f # Obtener la función evaluable\n",
    "    valores_y_RK_4 = [y_0] # Lista de valores de y\n",
    "    valores_t = [t_0] # Vector de tiempo\n",
    "\n",
    "    # Iterar sobre el número de pasos y aplicar el método de Runge-Kutta 4\n",
    "    for i in range(n_pasos):\n",
    "        valores_t.append(valores_t[i] + h) # ¡¡¡NO MODIFICAR!!!\n",
    "        k1 = h * f(valores_y_RK_4[i]) # ¡¡¡NO MODIFICAR!!!\n",
    "        k2 = h * f(valores_y_RK_4[i] + k1/2) # ¡¡¡NO MODIFICAR!!!\n",
    "        k3 = h * f(valores_y_RK_4[i] + k2/2) # ¡¡¡NO MODIFICAR!!!\n",
    "        k4 = h * f(valores_y_RK_4[i] + k3) # ¡¡¡NO MODIFICAR!!!\n",
    "        y_nueva = valores_y_RK_4[i] + 1/6 * (k1 + 2*k2 + 2*k3 + k4) # ¡¡¡NO MODIFICAR!!!\n",
    "        valores_y_RK_4.append(y_nueva) # ¡¡¡NO MODIFICAR!!!\n",
    "\n",
    "    # Graficar\n",
    "    titulo = f'Enfriamiento de Newton<br>Método de Runge-Kutta 4 con h = {round(h,3)}, n = {n_pasos} y N(0) = {round(y_0,3)}' # ¡¡¡NO MODIFICAR!!!\n",
    "    eje_x = 't[min]' # Nombre del eje x\n",
    "    eje_y = 'T(t)[C]' # Nombre del eje y\n",
    "\n",
    "    return ut.graficar(valores=[valores_t, valores_y_RK_4], titulo=titulo, labels=[eje_x, eje_y], metodo='RK4', mostrar=mostrar) # ¡¡¡NO MODIFICAR!!!\n",
    "\n",
    "grafica_RK_4 = metodo_RK_4(f_real, t_0, y_0, h, n_pasos) # Graficar método de Runge-Kutta 4"
   ]
  },
  {
   "cell_type": "markdown",
   "metadata": {},
   "source": [
    "## Comparacion de los metodos"
   ]
  },
  {
   "cell_type": "markdown",
   "metadata": {},
   "source": [
    "En esta celda se comparan los resultados obtenidos con los diferentes métodos numéricos. Para que funcione debes haber ejecutado la celda de solucion analitica y las 3 celdas donde se codifican los métodos."
   ]
  },
  {
   "cell_type": "code",
   "execution_count": null,
   "metadata": {},
   "outputs": [],
   "source": [
    "titulo = f'Enfriamiento de Newton, comparación de métodos'\n",
    "labels = ['t[min]', 'T(t)[C]']\n",
    "\n",
    "def compararResultados():\n",
    "    plot_Analitica= solucion_analitica(f_sol_analitica, valores_t, C, k, mostrar=False)\n",
    "    plot_Euler = metodo_euler(f_real, t_0, y_0, h, n_pasos, mostrar=False)\n",
    "    plot_Euler_Mod = metodo_euler_mod(f_real, t_0, y_0, h, n_pasos, mostrar=False)\n",
    "    plot_RK_4 = metodo_RK_4(f_real, t_0, y_0, h, n_pasos, mostrar=False)\n",
    "    return ut.compararMetodos(titulo, plot_Analitica, plot_Euler, plot_Euler_Mod, plot_RK_4, labels=labels) # Comparar métodos ¡¡¡NO MODIFICAR!!!\n",
    "\n",
    "compararResultados()"
   ]
  },
  {
   "cell_type": "markdown",
   "metadata": {},
   "source": [
    "### Videos de apoyo"
   ]
  },
  {
   "cell_type": "markdown",
   "metadata": {},
   "source": [
    "Ejecuta la siguiente celda para ver el video recomendado."
   ]
  },
  {
   "cell_type": "code",
   "execution_count": null,
   "metadata": {},
   "outputs": [],
   "source": [
    "from IPython.display import YouTubeVideo\n",
    "ytv = YouTubeVideo('M7IO8cA8J5M')\n",
    "display(ytv)"
   ]
  },
  {
   "cell_type": "markdown",
   "metadata": {},
   "source": [
    "### Referencias"
   ]
  },
  {
   "cell_type": "markdown",
   "metadata": {},
   "source": [
    "[1] Chapra, S. C., & Canale, R. P. (2011). Métodos numéricos para ingenieros (6.a ed.) [Electrónico]. [enlace](https://eds.s.ebscohost.com/eds/detail/detail?vid=2&sid=5ad28e1c-ae1c-4a2c-99e4-bd280e8b1618%40redis&bdata=Jmxhbmc9ZXMmc2l0ZT1lZHMtbGl2ZQ%3d%3d#AN=lib.MX001001698818&db=cat02025a)\n",
    "\n",
    "[2] Carnahan, B., Luther, H. A., & Wilkes, J. O. (1990). Applied Numerical methods. Krieger Publishing Company. \n",
    "[Ubicación Facultad de Ingeniería, UNAM](https://eds.s.ebscohost.com/eds/detail/detail?vid=2&sid=7bf807f7-00a8-433e-ab55-6e0dbb10d8fd%40redis&bdata=Jmxhbmc9ZXMmc2l0ZT1lZHMtbGl2ZQ%3d%3d#AN=lib.MX001000592290&db=cat02025a)"
   ]
  }
 ],
 "metadata": {
  "kernelspec": {
   "display_name": ".venv",
   "language": "python",
   "name": "python3"
  },
  "language_info": {
   "codemirror_mode": {
    "name": "ipython",
    "version": 3
   },
   "file_extension": ".py",
   "mimetype": "text/x-python",
   "name": "python",
   "nbconvert_exporter": "python",
   "pygments_lexer": "ipython3",
   "version": "3.12.3"
  }
 },
 "nbformat": 4,
 "nbformat_minor": 2
}
