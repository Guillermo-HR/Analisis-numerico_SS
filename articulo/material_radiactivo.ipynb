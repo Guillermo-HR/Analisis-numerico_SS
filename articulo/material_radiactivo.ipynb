{
 "cells": [
  {
   "cell_type": "markdown",
   "metadata": {},
   "source": [
    "# Métodos numéricos para resolver el problema de desintegración radiactiva"
   ]
  },
  {
   "cell_type": "markdown",
   "metadata": {},
   "source": [
    "Un material radiactivo se desintegra a una razón proporcional a la cantidad presente. Si inicialmente hay 60 mg de material y al cabo de una hora se observa que ha perdido el 7\\% de la cantidad inicial, hallar:\n",
    "\n",
    "1. El material de masa en cualquier momento $t$.\n",
    "\n",
    "2. La masa del material después de 4 horas.\n",
    "\n",
    "3. El tiempo que transcurre hasta la desintegración de la mitad de la cantidad inicial. "
   ]
  },
  {
   "cell_type": "markdown",
   "metadata": {},
   "source": [
    "Se presentan los siguientes métodos:\n",
    "* Euler\n",
    "* Euler modificado\n",
    "* Runge-Kutta de orden 4"
   ]
  },
  {
   "cell_type": "markdown",
   "metadata": {},
   "source": [
    "#### La siguiente celda solo se debe ejecutar la primera vez que se use el notebook para instalar las bibliotecas necesarias."
   ]
  },
  {
   "cell_type": "code",
   "execution_count": null,
   "metadata": {},
   "outputs": [],
   "source": [
    "# Instalar las bibliotecas\n",
    "%pip install plotly --q\n",
    "%pip install nbformat --q\n",
    "%pip install sympy --q"
   ]
  },
  {
   "cell_type": "code",
   "execution_count": null,
   "metadata": {},
   "outputs": [],
   "source": [
    "# Importar las bibliotecas\n",
    "from sympy import lambdify, sympify # ¡¡¡NO MODIFICAR!!!\n",
    "from sympy.abc import t, n # ¡¡¡NO MODIFICAR!!!\n",
    "import plotly.express as px # ¡¡¡NO MODIFICAR!!!\n",
    "import plotly.graph_objects as go # ¡¡¡NO MODIFICAR!!!\n",
    "import numpy as np # ¡¡¡NO MODIFICAR!!!"
   ]
  },
  {
   "cell_type": "markdown",
   "metadata": {},
   "source": [
    "### Definición de constantes y funciones"
   ]
  },
  {
   "cell_type": "code",
   "execution_count": null,
   "metadata": {},
   "outputs": [],
   "source": [
    "t_0 = 0 # Tiempo inicial en minutos\n",
    "t_f = 15 # Tiempo final en minutos\n",
    "valores_t = np.linspace(t_0, t_f, (t_f-t_0)*15) # Vector de tiempo !!!NO MODIFICAR!!!\n",
    "t_n = [0.2, 2, 4, 6.7, 9] # Valores en los que se quiere conocer la solucion en minutos\n",
    "porcentajes = [0.3, 0.5, 0.9] # Porcentajes de desintegración\n",
    "\n",
    "k = -0.07257  # contante de desintegración ????\n",
    "C = 60 # Constante de integración\n",
    "\n",
    "f_real = f'{k}*n'\n",
    "f_real = lambdify(n, sympify(f_real), 'numpy') # Funcion f(x, y) en formato numpy ¡¡¡NO MODIFICAR!!!\n",
    "f_analitica = f'{C}*exp({k}*t)' # Solucion analitica de la ecuacion diferencial ¡¡¡NO MODIFICAR!!!\n",
    "f_analitica = lambdify(t, sympify(f_analitica), 'numpy') # Funcion f(x, y) en formato numpy ¡¡¡NO MODIFICAR!!!"
   ]
  },
  {
   "cell_type": "markdown",
   "metadata": {},
   "source": [
    "### Analitica"
   ]
  },
  {
   "cell_type": "code",
   "execution_count": null,
   "metadata": {},
   "outputs": [],
   "source": [
    "def solucion_analitica(f, valores_t, C, k):\n",
    "    # Evaluar la función\n",
    "    valores_y = list(map(lambda t: f(t), valores_t)) # Evaluar la función en el vector de tiempo\n",
    "\n",
    "    # Graficar\n",
    "    titulo = f'Desintegración de material radioactivo<br>Solucion analítica: N(t)={C}exp({k}t)' # Titulo de la gráfica\n",
    "    eje_x = 't[m]' # Nombre del eje x\n",
    "    eje_y = 'N(t)[mg]' # Nombre del eje y \n",
    "\n",
    "    fig = go.Figure() # Crear figura para graficar\n",
    "    fig.update_layout(title=titulo, title_x=0.5, xaxis_title=eje_x, yaxis_title=eje_y) # Actualizar diseño de la gráfica\n",
    "    plot_analitica = go.Scatter(x=valores_t, y=valores_y, name='Solución analítica', line=dict(color='blue', width=2), mode='lines', showlegend=True) # Crear gráfica de la solución analítica\n",
    "    fig.add_trace(plot_analitica) # Agregar gráfica de la solución analítica a la figura\n",
    "    fig.show() # Mostrar figura\n",
    "    return plot_analitica # Regresar gráfica de la solución analítica\n",
    "\n",
    "plot_Analitica = solucion_analitica(f_analitica, valores_t, C, k) # Graficar solución analítica"
   ]
  },
  {
   "cell_type": "markdown",
   "metadata": {},
   "source": [
    "### Graficar masa en un tiempo t y el tiempo que transcurre hasta alcanzar un porcentaje de desintegración"
   ]
  },
  {
   "cell_type": "code",
   "execution_count": null,
   "metadata": {},
   "outputs": [],
   "source": [
    "def marcadores(f, k, t_n, porcentajes):\n",
    "    # Evaluar la función en los valores de tiempo\n",
    "    valores_y = tuple(map(lambda t: f(t), t_n)) # Convert the list to a tuple\n",
    "\n",
    "    # Encontrar el tiempo en el que se alcanza el porcentaje de desintegración\n",
    "    porcentajes.sort(reverse=True) # Ordenar los porcentajes de mayor a menor\n",
    "    t_porcentajes = tuple(map(lambda porcentaje: np.log(porcentaje)/k, porcentajes)) # Convert the list to a tuple\n",
    "    y_porcentajes = tuple(map(lambda t: f(t), t_porcentajes)) # Convert the list to a tuple\n",
    "\n",
    "    # Graficar\n",
    "    titulo = f'Desintegración de material radioactivo<br>Porcentaje(s) de desintegración: {[p*100 for p in porcentajes]}%<br>Evaluación en t: {t_n}' # Titulo de la gráfica\n",
    "    eje_x = 't[m]' # Nombre del eje x\n",
    "    eje_y = 'N(t)[mg]' # Nombre del eje y \n",
    "    fig = go.Figure() # Crear figura para graficar\n",
    "    fig.update_layout(title=titulo, title_x=0.5, xaxis_title=eje_x, yaxis_title=eje_y) # Actualizar diseño de la gráfica\n",
    "    fig.add_trace(plot_analitica) # Agregar gráfica de la solución analítica a la figura\n",
    "    plot_tiempos = go.Scatter(x=t_n, y=valores_y, name=f'Funcion evaluada en t={t_n}', marker=dict(color='red', size=9), mode='markers', showlegend=True) # Graficar los valores de tiempo\n",
    "    fig.add_trace(plot_tiempos) # Agregar gráfica de los valores de tiempo\n",
    "    plot_porcentajes = go.Scatter(x=t_porcentajes, y=y_porcentajes, name=f'Porcentajes de desintegración<br>{[p*100 for p in porcentajes]}', marker=dict(color='orange', size=9), mode='markers', showlegend=True) # Graficar el porcentaje de desintegración\n",
    "    fig.add_trace(plot_porcentajes) # Agregar gráfica de los porcentajes de desintegración\n",
    "    fig.show() # Mostrar figura\n",
    "    return plot_tiempos, plot_porcentajes # Regresar gráfica de los valores de tiempo y porcentaje de desintegración\n",
    "\n",
    "plot_Tiempos, plot_Porcentajes = marcadores(f_analitica, k, t_n, porcentajes) # Graficar marcadores"
   ]
  },
  {
   "cell_type": "markdown",
   "metadata": {},
   "source": [
    "### Definición de constante para métodos numéricos"
   ]
  },
  {
   "cell_type": "code",
   "execution_count": null,
   "metadata": {},
   "outputs": [],
   "source": [
    "h = 0.2 # Tamaño de paso\n",
    "n_pasos = int(np.ceil((t_f-t_0)/h)) # Número de pasos !!!NO MODIFICAR!!!\n",
    "y_0 = C # Masa inicial !!!NO MODIFICAR!!!"
   ]
  },
  {
   "cell_type": "markdown",
   "metadata": {},
   "source": [
    "### Euler"
   ]
  },
  {
   "cell_type": "code",
   "execution_count": null,
   "metadata": {},
   "outputs": [],
   "source": [
    "def metodo_euler(f, t_0, y_0, h, n_pasos):\n",
    "    valores_y_Euler = [y_0] # Lista de valores de y\n",
    "    valores_t = [t_0] # Vector de tiempo\n",
    "    \n",
    "    # Iterar sobre el número de pasos y aplicar el método de Euler\n",
    "    for i in range(n_pasos):\n",
    "        valores_t.append(valores_t[i] + h) # Agregar el valor de t a la lista\n",
    "        y_nueva = valores_y_Euler[i] + h * f(valores_y_Euler[i]) # Método de Euler\n",
    "        valores_y_Euler.append(y_nueva) # Agregar el valor de y a la lista\n",
    "\n",
    "    # Graficar\n",
    "    titulo = f'Desintegración de material radioactivo<br>Método de Euler con h = {h}, n = {n_pasos} y N(0) = {y_0}' # ¡¡¡NO MODIFICAR!!!\n",
    "    eje_x = 't[m]' # Nombre del eje x\n",
    "    eje_y = 'N(t)[mg]' # Nombre del eje y\n",
    "\n",
    "    fig = go.Figure() # ¡¡¡NO MODIFICAR!!!\n",
    "    fig.update_layout(title=titulo, title_x=0.5, xaxis_title=eje_x, yaxis_title=eje_y) # ¡¡¡NO MODIFICAR!!!\n",
    "    plot_Euler = go.Scatter(x=valores_t, y=valores_y_Euler, mode='markers', marker=dict(size=8, symbol='diamond'), name='Euler', marker_color='lime', showlegend=True) # ¡¡¡NO MODIFICAR!!!\n",
    "    fig.add_trace(plot_Euler) # ¡¡¡NO MODIFICAR!!!\n",
    "    fig.show() # ¡¡¡NO MODIFICAR!!!\n",
    "    return plot_Euler # ¡¡¡NO MODIFICAR!!!\n",
    "\n",
    "plot_Euler = metodo_euler(f_real, t_0, y_0, h, n_pasos) # Graficar método de Euler"
   ]
  },
  {
   "cell_type": "markdown",
   "metadata": {},
   "source": [
    "### Euler modificado"
   ]
  },
  {
   "cell_type": "code",
   "execution_count": null,
   "metadata": {},
   "outputs": [],
   "source": [
    "def metodo_euler_mod(f, t_0, y_0, h, n_pasos):\n",
    "    valores_y_Euler_Mod = [y_0] # Lista de valores de y\n",
    "    valores_t = [t_0] # Vector de tiempo\n",
    "\n",
    "    # Iterar sobre el número de pasos y aplicar el método de Euler modificado\n",
    "    for i in range(n_pasos):\n",
    "        valores_t.append(valores_t[i] + h)\n",
    "        y_nueva = valores_y_Euler_Mod[i] + h * f(valores_y_Euler_Mod[i] + h/2 * f(valores_y_Euler_Mod[i])) # ¡¡¡NO MODIFICAR!!!\n",
    "        valores_y_Euler_Mod.append(y_nueva) # ¡¡¡NO MODIFICAR!!!\n",
    "\n",
    "    # Graficar\n",
    "    titulo = f'Desintegración de material radioactivo<br>Método de Euler modificado con h = {h}, n = {n_pasos} y N(0) = {y_0}' # ¡¡¡NO MODIFICAR!!!\n",
    "    eje_x = 't[m]' # Nombre del eje x\n",
    "    eje_y = 'N(t)[mg]' # Nombre del eje y\n",
    "\n",
    "    fig = go.Figure() # ¡¡¡NO MODIFICAR!!!\n",
    "    fig.update_layout(title=titulo, title_x=0.5, xaxis_title=eje_x, yaxis_title=eje_y) # ¡¡¡NO MODIFICAR!!!\n",
    "    plot_Euler_Mod = go.Scatter(x=valores_t, y=valores_y_Euler_Mod, mode='markers', marker=dict(size=8, symbol='triangle-up'), name='Euler modificado', marker_color='darkviolet', showlegend=True) # ¡¡¡NO MODIFICAR!!!\n",
    "    fig.add_trace(plot_Euler_Mod) # ¡¡¡NO MODIFICAR!!!\n",
    "    fig.show() # ¡¡¡NO MODIFICAR!!!\n",
    "    return plot_Euler_Mod # ¡¡¡NO MODIFICAR!!!\n",
    "\n",
    "plot_Euler_Mod = metodo_euler_mod(f_real, t_0, y_0, h, n_pasos) # Graficar método de Euler modificado"
   ]
  },
  {
   "cell_type": "markdown",
   "metadata": {},
   "source": [
    "## Runge-Kutta de orden 4"
   ]
  },
  {
   "cell_type": "code",
   "execution_count": null,
   "metadata": {},
   "outputs": [],
   "source": [
    "def metodo_RK_4(f, t_0, y_0, h, n_pasos):\n",
    "    valores_y_RK_4 = [y_0] # Lista de valores de y\n",
    "    valores_t = [t_0] # Vector de tiempo\n",
    "\n",
    "    # Iterar sobre el número de pasos y aplicar el método de Runge-Kutta 4\n",
    "    for i in range(n_pasos):\n",
    "        valores_t.append(valores_t[i] + h) # ¡¡¡NO MODIFICAR!!!\n",
    "        k1 = h * f(valores_y_RK_4[i]) # ¡¡¡NO MODIFICAR!!!\n",
    "        k2 = h * f(valores_y_RK_4[i] + k1/2) # ¡¡¡NO MODIFICAR!!!\n",
    "        k3 = h * f(valores_y_RK_4[i] + k2/2) # ¡¡¡NO MODIFICAR!!!\n",
    "        k4 = h * f(valores_y_RK_4[i] + k3) # ¡¡¡NO MODIFICAR!!!\n",
    "        y_nueva = valores_y_RK_4[i] + 1/6 * (k1 + 2*k2 + 2*k3 + k4) # ¡¡¡NO MODIFICAR!!!\n",
    "        valores_y_RK_4.append(y_nueva) # ¡¡¡NO MODIFICAR!!!\n",
    "\n",
    "    # Graficar\n",
    "    titulo = f'Desintegración de material radioactivo<br>Método de Runge-Kutta 4 con h = {h}, n = {n_pasos} y N(0) = {y_0}' # ¡¡¡NO MODIFICAR!!!\n",
    "    eje_x = 't[m]' # Nombre del eje x\n",
    "    eje_y = 'N(t)[mg]' # Nombre del eje y\n",
    "\n",
    "    fig = go.Figure() # ¡¡¡NO MODIFICAR!!!\n",
    "    fig.update_layout(title=titulo, title_x=0.5, xaxis_title=eje_x, yaxis_title=eje_y) # ¡¡¡NO MODIFICAR!!!\n",
    "    plot_RK_4 = go.Scatter(x=valores_t, y=valores_y_RK_4, mode='markers', marker=dict(size=8, symbol='triangle-down'), name='Runge-Kutta 4', marker_color='hotpink', showlegend=True) # ¡¡¡NO MODIFICAR!!!\n",
    "    fig.add_trace(plot_RK_4) # ¡¡¡NO MODIFICAR!!!\n",
    "    fig.show() # ¡¡¡NO MODIFICAR!!!\n",
    "    return plot_RK_4 # ¡¡¡NO MODIFICAR!!!\n",
    "\n",
    "plot_RK_4 = metodo_RK_4(f_real, t_0, y_0, h, n_pasos) # Graficar método de Runge-Kutta 4"
   ]
  },
  {
   "cell_type": "markdown",
   "metadata": {},
   "source": [
    "## Comparacion de los metodos"
   ]
  },
  {
   "cell_type": "code",
   "execution_count": null,
   "metadata": {},
   "outputs": [],
   "source": [
    "titulo = f'Desintegración de material radioactivo<br>Comparación de metodos numericos y solucion analitica<br>Porcentaje(s) de desintegración: {[p*100 for p in porcentajes]}%<br>Evaluación en t: {t_n}' # ¡¡¡NO MODIFICAR!!!\n",
    "eje_x = 't[m]' # Nombre del eje x\n",
    "eje_y = 'N(t)[mg]' # Nombre del eje y\n",
    "\n",
    "fig = go.Figure() # ¡¡¡NO MODIFICAR!!!\n",
    "fig.update_layout(title=titulo, xaxis_title=eje_x, yaxis_title=eje_y, legend_title='Métodos', title_x=0.5, title_y=0.9) # ¡¡¡NO MODIFICAR!!!\n",
    "fig.update_layout(margin=dict(t=130)) # ¡¡¡NO MODIFICAR!!!\n",
    "fig.add_trace(plot_Analitica) # ¡¡¡NO MODIFICAR!!!\n",
    "fig.add_trace(plot_Euler) # ¡¡¡NO MODIFICAR!!!\n",
    "fig.add_trace(plot_Euler_Mod) # ¡¡¡NO MODIFICAR!!!\n",
    "fig.add_trace(plot_RK_4) # ¡¡¡NO MODIFICAR!!!\n",
    "fig.add_trace(plot_Tiempos) # ¡¡¡NO MODIFICAR!!!\n",
    "fig.add_trace(plot_Porcentajes) # ¡¡¡NO MODIFICAR!!!\n",
    "\n",
    "fig.show() # ¡¡¡NO MODIFICAR!!!"
   ]
  }
 ],
 "metadata": {
  "kernelspec": {
   "display_name": ".venv",
   "language": "python",
   "name": "python3"
  },
  "language_info": {
   "codemirror_mode": {
    "name": "ipython",
    "version": 3
   },
   "file_extension": ".py",
   "mimetype": "text/x-python",
   "name": "python",
   "nbconvert_exporter": "python",
   "pygments_lexer": "ipython3",
   "version": "3.10.5"
  }
 },
 "nbformat": 4,
 "nbformat_minor": 2
}
