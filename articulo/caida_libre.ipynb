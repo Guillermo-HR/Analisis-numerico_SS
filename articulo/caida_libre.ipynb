{
 "cells": [
  {
   "cell_type": "markdown",
   "metadata": {},
   "source": [
    "# Métodos numéricos para resolver el problema de caida libre"
   ]
  },
  {
   "cell_type": "markdown",
   "metadata": {},
   "source": [
    "Un paracaidista con una masa de 87.5 kg salta de un globo aerostático fijo.\n",
    "Tomando en cuenta la expresión de un modelo matemático simple, calcular la\n",
    "velocidad terminal del paracaidista. Considere que el coeficiente de arrastre es\n",
    "igual a 13.5 kg/s."
   ]
  },
  {
   "cell_type": "markdown",
   "metadata": {},
   "source": [
    "Se presentan los siguientes métodos:\n",
    "* Euler\n",
    "* Euler modificado\n",
    "* Runge-Kutta de orden 4"
   ]
  },
  {
   "cell_type": "markdown",
   "metadata": {},
   "source": [
    "#### La siguiente celda solo se debe ejecutar la primera vez que se use el notebook para instalar las bibliotecas necesarias."
   ]
  },
  {
   "cell_type": "code",
   "execution_count": null,
   "metadata": {},
   "outputs": [],
   "source": [
    "# Importar las bibliotecas\n",
    "from sympy import lambdify, sympify # ¡¡¡NO MODIFICAR!!!\n",
    "from sympy.abc import t, v # ¡¡¡NO MODIFICAR!!!\n",
    "import plotly.express as px # ¡¡¡NO MODIFICAR!!!\n",
    "import plotly.graph_objects as go # ¡¡¡NO MODIFICAR!!!\n",
    "import numpy as np # ¡¡¡NO MODIFICAR!!!\n",
    "import metodos_numericos_dcb_fi.utilidades as ut # ¡¡¡NO MODIFICAR!!!"
   ]
  },
  {
   "cell_type": "markdown",
   "metadata": {},
   "source": [
    "### Caracterisación del problema, definicion del modelo matemático y constantes para los métodos numéricos"
   ]
  },
  {
   "cell_type": "code",
   "execution_count": null,
   "metadata": {},
   "outputs": [],
   "source": [
    "global t_0, t_f, valores_t, gravedad, masa, k, C, f_real, f_sol_analitica, h, n_pasos, y_0\n",
    "def definirConstantes():\n",
    "    # Definir las constantes\n",
    "    global t_0, t_f, valores_t, gravedad, masa, k, C, f_real, f_sol_analitica, h, n_pasos, y_0\n",
    "    # valores de tiempo\n",
    "    t_0 = 0 # tiempo inicial en segundos\n",
    "    t_f = int(input(\"Ingresa el tiempo final en minutos: \")) # tiempo final en segundos\n",
    "    valores_t = np.linspace(t_0, t_f, (t_f-t_0)*15) # vector de tiempo\n",
    "    # caracterizacion del problema\n",
    "    gravedad = 9.81 # gravedad en m/s^2\n",
    "    masa = float(input(\"Ingresa la masa del objeto en kg: \")) # masa en kg\n",
    "    k = float(input(\"Ingresa el coeficiente de resistencia del aire en Ns/m: \")) if input(\"¿Deseas utilizar el coeficiente de resistencia del aire recomendado (13.5? (s/n): \") == \"n\" else 13.5 # coeficiente de resistencia del aire en Ns/m\n",
    "    # valores de las ecuaciones\n",
    "    C = -masa*gravedad/k # constante de integración\n",
    "    f_real = ut.convertirFuncion(f'{gravedad}-{k/masa}*v', 'v')\n",
    "    f_sol_analitica = ut.convertirFuncion(f'{masa*gravedad/k}+{C}*exp(-{k/masa}*t)', 't')\n",
    "    # valores para los métodos numéricos\n",
    "    h = int(input(\"Ingresa el tamaño de paso en minutos: \")) # tamaño de paso\n",
    "    n_pasos = int(np.ceil((t_f-t_0)/h)) # Número de pasos\n",
    "    y_0 = f_sol_analitica.f(t_0) # Velocidad inicial\n",
    "definirConstantes()"
   ]
  },
  {
   "cell_type": "markdown",
   "metadata": {},
   "source": [
    "### Analitica"
   ]
  },
  {
   "cell_type": "code",
   "execution_count": null,
   "metadata": {},
   "outputs": [],
   "source": [
    "def solucion_analitica(f_, valores_t, C, k):\n",
    "    f = f_.f # Obtener la funcion evaluable\n",
    "    valores_y = list(map(lambda t: f(t), valores_t)) # Evaluar la función en el vector de tiempo\n",
    "\n",
    "    # Graficar\n",
    "    titulo = f'Caida libre<br>Solucion analítica' # Titulo de la gráfica\n",
    "    eje_x = 't[s]' # Nombre del eje x\n",
    "    eje_y = 'v(t)[m/s]' # Nombre del eje y \n",
    "\n",
    "    return ut.graficar(valores=[valores_t, valores_y], titulo=titulo, labels=[eje_x, eje_y], metodo='Analitica') # Regresar gráfica de la solución analítica\n",
    "\n",
    "plot_Analitica = solucion_analitica(f_sol_analitica, valores_t, C, k) # Graficar solución analítica"
   ]
  },
  {
   "cell_type": "markdown",
   "metadata": {},
   "source": [
    "### Euler"
   ]
  },
  {
   "cell_type": "code",
   "execution_count": null,
   "metadata": {},
   "outputs": [],
   "source": [
    "def metodo_euler(f_, t_0, y_0, h, n_pasos):\n",
    "    f = f_.f # Obtener la función evaluable\n",
    "    valores_y_Euler = [y_0] # Lista de valores de y\n",
    "    valores_t = [t_0] # Vector de tiempo\n",
    "    \n",
    "    # Iterar sobre el número de pasos y aplicar el método de Euler\n",
    "    for i in range(n_pasos):\n",
    "        valores_t.append(valores_t[i] + h) # Agregar el valor de t a la lista\n",
    "        y_nueva = valores_y_Euler[i] + h * f(valores_y_Euler[i]) # Método de Euler\n",
    "        valores_y_Euler.append(y_nueva) # Agregar el valor de y a la lista\n",
    "\n",
    "    # Graficar\n",
    "    titulo = f'Caida libre<br>Método de Euler' # ¡¡¡NO MODIFICAR!!!\n",
    "    eje_x = 't[s]' # Nombre del eje x\n",
    "    eje_y = 'v(t)[m/s]' # Nombre del eje y\n",
    "\n",
    "    return ut.graficar(valores=[valores_t, valores_y_Euler], titulo=titulo, labels=[eje_x, eje_y], metodo='Euler') # ¡¡¡NO MODIFICAR!!!\n",
    "\n",
    "plot_Euler = metodo_euler(f_real, t_0, y_0, h, n_pasos) # Graficar método de Euler"
   ]
  },
  {
   "cell_type": "markdown",
   "metadata": {},
   "source": [
    "### Euler modificado"
   ]
  },
  {
   "cell_type": "code",
   "execution_count": null,
   "metadata": {},
   "outputs": [],
   "source": [
    "def metodo_euler_mod(f_, t_0, y_0, h, n_pasos):\n",
    "    f = f_.f # Obtener la función evaluable\n",
    "    valores_y_Euler_Mod = [y_0] # Lista de valores de y\n",
    "    valores_t = [t_0] # Vector de tiempo\n",
    "\n",
    "    # Iterar sobre el número de pasos y aplicar el método de Euler modificado\n",
    "    for i in range(n_pasos):\n",
    "        valores_t.append(valores_t[i] + h)\n",
    "        y_nueva = valores_y_Euler_Mod[i] + h * f(valores_y_Euler_Mod[i] + h/2 * f(valores_y_Euler_Mod[i])) # ¡¡¡NO MODIFICAR!!!\n",
    "        valores_y_Euler_Mod.append(y_nueva) # ¡¡¡NO MODIFICAR!!!\n",
    "\n",
    "    # Graficar\n",
    "    titulo = f'Caida libre<br>Método de Euler modificado' # ¡¡¡NO MODIFICAR!!\n",
    "    eje_x = 't[s]' # Nombre del eje x\n",
    "    eje_y = 'v(t)[m/s]' # Nombre del eje y\n",
    "\n",
    "    return ut.graficar(valores=[valores_t, valores_y_Euler_Mod], titulo=titulo, labels=[eje_x, eje_y], metodo='Euler M') # ¡¡¡NO MODIFICAR!!!\n",
    "\n",
    "plot_Euler_Mod = metodo_euler_mod(f_real, t_0, y_0, h, n_pasos) # Graficar método de Euler modificado"
   ]
  },
  {
   "cell_type": "markdown",
   "metadata": {},
   "source": [
    "## Runge-Kutta de orden 4"
   ]
  },
  {
   "cell_type": "code",
   "execution_count": null,
   "metadata": {},
   "outputs": [],
   "source": [
    "def metodo_RK_4(f_, t_0, y_0, h, n_pasos):\n",
    "    f = f_.f # Obtener la función evaluable\n",
    "    valores_y_RK_4 = [y_0] # Lista de valores de y\n",
    "    valores_t = [t_0] # Vector de tiempo\n",
    "\n",
    "    # Iterar sobre el número de pasos y aplicar el método de Runge-Kutta 4\n",
    "    for i in range(n_pasos):\n",
    "        valores_t.append(valores_t[i] + h) # ¡¡¡NO MODIFICAR!!!\n",
    "        k1 = h * f(valores_y_RK_4[i]) # ¡¡¡NO MODIFICAR!!!\n",
    "        k2 = h * f(valores_y_RK_4[i] + k1/2) # ¡¡¡NO MODIFICAR!!!\n",
    "        k3 = h * f(valores_y_RK_4[i] + k2/2) # ¡¡¡NO MODIFICAR!!!\n",
    "        k4 = h * f(valores_y_RK_4[i] + k3) # ¡¡¡NO MODIFICAR!!!\n",
    "        y_nueva = valores_y_RK_4[i] + 1/6 * (k1 + 2*k2 + 2*k3 + k4) # ¡¡¡NO MODIFICAR!!!\n",
    "        valores_y_RK_4.append(y_nueva) # ¡¡¡NO MODIFICAR!!!\n",
    "\n",
    "    # Graficar\n",
    "    titulo = f'Caida libre<br>Método de Runge-Kutta 4' # ¡¡¡NO MODIFICAR!!!\n",
    "    eje_x = 't[s]' # Nombre del eje x\n",
    "    eje_y = 'v(t)[m/s]' # Nombre del eje y\n",
    "\n",
    "    return ut.graficar(valores=[valores_t, valores_y_RK_4], titulo=titulo, labels=[eje_x, eje_y], metodo='RK4') # ¡¡¡NO MODIFICAR!!!\n",
    "\n",
    "plot_RK_4 = metodo_RK_4(f_real, t_0, y_0, h, n_pasos) # Graficar método de Runge-Kutta 4"
   ]
  },
  {
   "cell_type": "markdown",
   "metadata": {},
   "source": [
    "## Comparar resultados"
   ]
  },
  {
   "cell_type": "code",
   "execution_count": null,
   "metadata": {},
   "outputs": [],
   "source": [
    "titulo = 'Comparar mètodos'\n",
    "labels = ['t[s]', 'v(t)[m/s]']\n",
    "ut.compararMetodos(titulo, plot_Analitica, plot_Euler, plot_Euler_Mod, plot_RK_4, labels=labels) # Comparar métodos (¡¡¡NO MODIFICAR!!!"
   ]
  }
 ],
 "metadata": {
  "kernelspec": {
   "display_name": "Python 3 (ipykernel)",
   "language": "python",
   "name": "python3"
  },
  "language_info": {
   "codemirror_mode": {
    "name": "ipython",
    "version": 3
   },
   "file_extension": ".py",
   "mimetype": "text/x-python",
   "name": "python",
   "nbconvert_exporter": "python",
   "pygments_lexer": "ipython3",
   "version": "3.10.5"
  }
 },
 "nbformat": 4,
 "nbformat_minor": 4
}
