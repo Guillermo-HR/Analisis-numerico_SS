{
 "cells": [
  {
   "cell_type": "markdown",
   "metadata": {},
   "source": [
    "# Métodos numéricos para resolver ecuaciones diferenciales ordinarias"
   ]
  },
  {
   "cell_type": "markdown",
   "metadata": {},
   "source": [
    "Se presentan los siguientes métodos:\n",
    "* Polinomio de Taylor\n",
    "* Euler\n",
    "* Euler modificado\n",
    "* Runge-Kutta de orden 4"
   ]
  },
  {
   "cell_type": "markdown",
   "metadata": {},
   "source": [
    "#### La siguiente celda solo se debe ejecutar la primera vez que se use el notebook para instalar las bibliotecas necesarias."
   ]
  },
  {
   "cell_type": "code",
   "execution_count": null,
   "metadata": {},
   "outputs": [],
   "source": [
    "# Instalar las bibliotecas\n",
    "%pip install plotly --q\n",
    "%pip install nbformat --q\n",
    "%pip install sympy --q"
   ]
  },
  {
   "cell_type": "markdown",
   "metadata": {},
   "source": [
    "### Analitica"
   ]
  },
  {
   "cell_type": "code",
   "execution_count": null,
   "metadata": {},
   "outputs": [],
   "source": [
    "# Importar las bibliotecas\n",
    "from sympy import lambdify, sympify # ¡¡¡NO MODIFICAR!!!\n",
    "from sympy.abc import x, y # ¡¡¡NO MODIFICAR!!!\n",
    "import plotly.express as px # ¡¡¡NO MODIFICAR!!!\n",
    "import plotly.graph_objects as go # ¡¡¡NO MODIFICAR!!!\n",
    "import numpy as np # ¡¡¡NO MODIFICAR!!!\n",
    "\n",
    "# Definir las constantes\n",
    "x_inf = 0\n",
    "x_sup = 4\n",
    "valores_x = np.linspace(x_inf, x_sup, (x_sup-x_inf)*15) # ¡¡¡NO MODIFICAR!!!\n",
    "\n",
    "# Definir la función\n",
    "funcion = '(x+1)^2-0.5*exp(x)'\n",
    "f = lambdify(x, sympify(funcion), 'numpy') # Funcion f(x, y) en formato numpy ¡¡¡NO MODIFICAR!!!\n",
    "\n",
    "# Evaluar la función\n",
    "valores_y = list(map(lambda x: f(x), valores_x)) # Convertir a lista ¡¡¡NO MODIFICAR!!!\n",
    "\n",
    "# Graficar\n",
    "titulo = f'Solucion analítica' # Titulo de la gráfica ¡¡¡NO MODIFICAR!!!\n",
    "eje_x = 'x' # Nombre del eje x\n",
    "eje_y = 'f(x)' # Nombre del eje y \n",
    "\n",
    "fig = go.Figure() # ¡¡¡NO MODIFICAR!!!\n",
    "plot_A = go.Scatter(x=valores_x, y=valores_y, name='Analítica', line=dict(color='blue', width=2), mode='lines') # ¡¡¡NO MODIFICAR!!!\n",
    "fig.add_trace(plot_A) # ¡¡¡NO MODIFICAR!!!\n",
    "fig.update_layout(title=titulo, title_x=0.5, xaxis_title=eje_x, yaxis_title=eje_y) # ¡¡¡NO MODIFICAR!!!\n",
    "fig.show() # ¡¡¡NO MODIFICAR!!!"
   ]
  },
  {
   "cell_type": "markdown",
   "metadata": {},
   "source": [
    "### Euler"
   ]
  },
  {
   "cell_type": "code",
   "execution_count": null,
   "metadata": {},
   "outputs": [],
   "source": [
    "# Importar las bibliotecas\n",
    "from sympy import lambdify, sympify # ¡¡¡NO MODIFICAR!!!\n",
    "from sympy.abc import x, y # ¡¡¡NO MODIFICAR!!!\n",
    "import plotly.express as px # ¡¡¡NO MODIFICAR!!!\n",
    "import plotly.graph_objects as go # ¡¡¡NO MODIFICAR!!!\n",
    "\n",
    "# Definir las constantes\n",
    "h = 0.02 # Tamaño del paso\n",
    "n = 200 # Número de pasos\n",
    "x0 = 0 # Valor inicial de x\n",
    "y0 = 0.5 # Valor inicial de y\n",
    "valores_x = [x0 + i*h for i in range(n+1)] # Lista de valores de x ¡¡¡NO MODIFICAR!!!\n",
    "valores_y_Euler = [y0] # Lista de valores de y ¡¡¡NO MODIFICAR!!!\n",
    "\n",
    "# Definir la funcion f(x)\n",
    "funcion = 'y-x^2+1'\n",
    "f = lambdify([x, y], sympify(funcion), 'numpy') # Funcion f(x, y) en formato numpy ¡¡¡NO MODIFICAR!!!\n",
    "\n",
    "# Método\n",
    "for i in range(n):\n",
    "    y_nueva = valores_y_Euler[i] + h * f(valores_x[i], valores_y_Euler[i]) # ¡¡¡NO MODIFICAR!!!\n",
    "    valores_y_Euler.append(y_nueva) # ¡¡¡NO MODIFICAR!!!\n",
    "\n",
    "# Graficar\n",
    "titulo = f'Método de Euler con h = {h} y n = {n}' # ¡¡¡NO MODIFICAR!!!\n",
    "eje_x = 'x' # Nombre del eje x\n",
    "eje_y = 'f(x, y)' # Nombre del eje y\n",
    "\n",
    "fig = go.Figure() # ¡¡¡NO MODIFICAR!!!\n",
    "plot_E = go.Scatter(x=valores_x, y=valores_y_Euler, mode='markers', marker=dict(size=5.5, symbol='circle'), name='Euler', marker_color='darkorange') # ¡¡¡NO MODIFICAR!!!\n",
    "fig.add_trace(plot_E) # ¡¡¡NO MODIFICAR!!!\n",
    "fig.update_layout(title=titulo, title_x=0.5, xaxis_title=eje_x, yaxis_title=eje_y) # ¡¡¡NO MODIFICAR!!!\n",
    "fig.show() # ¡¡¡NO MODIFICAR!!!"
   ]
  },
  {
   "cell_type": "markdown",
   "metadata": {},
   "source": [
    "### Euler modificado"
   ]
  },
  {
   "cell_type": "code",
   "execution_count": null,
   "metadata": {},
   "outputs": [],
   "source": [
    "# Importar las bibliotecas\n",
    "from sympy import lambdify, sympify # ¡¡¡NO MODIFICAR!!!\n",
    "from sympy.abc import x, y # ¡¡¡NO MODIFICAR!!!\n",
    "import plotly.express as px # ¡¡¡NO MODIFICAR!!!\n",
    "\n",
    "# Definir las constantes\n",
    "h = 0.02 # Tamaño del paso\n",
    "n = 200 # Número de pasos\n",
    "x0 = 0 # Valor inicial de x\n",
    "y0 = 0.5 # Valor inicial de y\n",
    "valores_x = [x0 + i*h for i in range(n+1)] # Lista de valores de x ¡¡¡NO MODIFICAR!!!\n",
    "valores_y_EulerM = [y0] # Lista de valores de y ¡¡¡NO MODIFICAR!!!\n",
    "\n",
    "# Definir la funcion f(x)\n",
    "funcion = 'y-x^2+1'\n",
    "f = lambdify([x, y], sympify(funcion), 'numpy') # Funcion f(x, y) en formato numpy ¡¡¡NO MODIFICAR!!!\n",
    "\n",
    "# Método\n",
    "for i in range(n):\n",
    "    y_nueva = valores_y_EulerM[i] + h * f(valores_x[i] + h/2, valores_y_EulerM[i] + h/2 * f(valores_x[i], valores_y_EulerM[i])) # ¡¡¡NO MODIFICAR!!!\n",
    "    valores_y_EulerM.append(y_nueva) # ¡¡¡NO MODIFICAR!!!\n",
    "\n",
    "# Graficar\n",
    "titulo = f'Método de Euler modificado con h = {h} y n = {n}' # ¡¡¡NO MODIFICAR!!!\n",
    "eje_x = 'x' # Nombre del eje x\n",
    "eje_y = 'f(x, y)' # Nombre del eje y\n",
    "\n",
    "fig = go.Figure() # ¡¡¡NO MODIFICAR!!!\n",
    "plot_EM = go.Scatter(x=valores_x, y=valores_y_EulerM, mode='markers', marker=dict(size=5.5, symbol='circle'), name='EulerM', marker_color='magenta') # ¡¡¡NO MODIFICAR!!!\n",
    "fig.add_trace(plot_EM) # ¡¡¡NO MODIFICAR!!!\n",
    "fig.update_layout(title=titulo, title_x=0.5, xaxis_title=eje_x, yaxis_title=eje_y) # ¡¡¡NO MODIFICAR!!!\n",
    "fig.show() # ¡¡¡NO MODIFICAR!!!"
   ]
  },
  {
   "cell_type": "markdown",
   "metadata": {},
   "source": [
    "## Runge-Kutta de orden 4"
   ]
  },
  {
   "cell_type": "code",
   "execution_count": null,
   "metadata": {},
   "outputs": [],
   "source": [
    "# Importar las bibliotecas\n",
    "from sympy import lambdify, sympify # ¡¡¡NO MODIFICAR!!!\n",
    "from sympy.abc import x, y # ¡¡¡NO MODIFICAR!!!\n",
    "import plotly.express as px # ¡¡¡NO MODIFICAR!!!\n",
    "\n",
    "# Definir las constantes\n",
    "h = 0.02 # Tamaño del paso\n",
    "n = 200 # Número de pasos\n",
    "x0 = 0 # Valor inicial de x\n",
    "y0 = 0.5 # Valor inicial de y\n",
    "valores_x = [x0 + i*h for i in range(n+1)] # Lista de valores de x ¡¡¡NO MODIFICAR!!!\n",
    "valores_y_RK4 = [y0] # Lista de valores de y ¡¡¡NO MODIFICAR!!!\n",
    "\n",
    "# Definir la funcion f(x)\n",
    "funcion = 'y-x^2+1'\n",
    "f = lambdify([x, y], sympify(funcion), 'numpy') # Funcion f(x, y) en formato numpy ¡¡¡NO MODIFICAR!!!\n",
    "\n",
    "# Método\n",
    "for i in range(n):\n",
    "    k1 = h * f(valores_x[i], valores_y_RK4[i]) # ¡¡¡NO MODIFICAR!!!\n",
    "    k2 = h * f(valores_x[i] + h/2, valores_y_RK4[i] + k1/2) # ¡¡¡NO MODIFICAR!!!\n",
    "    k3 = h * f(valores_x[i] + h/2, valores_y_RK4[i] + k2/2) # ¡¡¡NO MODIFICAR!!!\n",
    "    k4 = h * f(valores_x[i] + h, valores_y_RK4[i] + k3) # ¡¡¡NO MODIFICAR!!!\n",
    "    y_nueva = valores_y_RK4[i] + 1/6 * (k1 + 2*k2 + 2*k3 + k4) # ¡¡¡NO MODIFICAR!!!\n",
    "    valores_y_RK4.append(y_nueva) # ¡¡¡NO MODIFICAR!!!\n",
    "\n",
    "# Graficar\n",
    "titulo = f'Método de Runge-Kutta 4 orden con h = {h} y n = {n}' # ¡¡¡NO MODIFICAR!!!\n",
    "eje_x = 'x' # Nombre del eje x\n",
    "eje_y = 'f(x, y)' # Nombre del eje y\n",
    "\n",
    "fig = go.Figure() # ¡¡¡NO MODIFICAR!!!\n",
    "plot_RK4 = go.Scatter(x=valores_x, y=valores_y_RK4, mode='markers', marker=dict(size=5.5, symbol='circle'), name='Runge-Kutta 4', marker_color='indigo') # ¡¡¡NO MODIFICAR!!!\n",
    "fig.add_trace(plot_RK4) # ¡¡¡NO MODIFICAR!!!\n",
    "fig.update_layout(title=titulo, title_x=0.5, xaxis_title=eje_x, yaxis_title=eje_y) # ¡¡¡NO MODIFICAR!!!\n",
    "fig.show() # ¡¡¡NO MODIFICAR!!!"
   ]
  },
  {
   "cell_type": "markdown",
   "metadata": {},
   "source": [
    "## Comparacion de los metodos"
   ]
  },
  {
   "cell_type": "code",
   "execution_count": null,
   "metadata": {},
   "outputs": [],
   "source": [
    "titulo = f'Comparación de los métodos numéricos' # ¡¡¡NO MODIFICAR!!!\n",
    "eje_x = 'x' # Nombre del eje x\n",
    "eje_y = 'f(x, y)' # Nombre del eje y\n",
    "\n",
    "fig = go.Figure() # ¡¡¡NO MODIFICAR!!!\n",
    "fig.add_trace(plot_A) # ¡¡¡NO MODIFICAR!!!\n",
    "fig.add_trace(plot_E) # ¡¡¡NO MODIFICAR!!!\n",
    "fig.add_trace(plot_EM) # ¡¡¡NO MODIFICAR!!!\n",
    "fig.add_trace(plot_RK4) # ¡¡¡NO MODIFICAR!!!\n",
    "\n",
    "fig.update_layout(title=titulo, xaxis_title=eje_x, yaxis_title=eje_y, legend_title='Métodos', title_x=0.5) # ¡¡¡NO MODIFICAR!!!\n",
    "fig.show() # ¡¡¡NO MODIFICAR!!!"
   ]
  }
 ],
 "metadata": {
  "kernelspec": {
   "display_name": ".venv",
   "language": "python",
   "name": "python3"
  },
  "language_info": {
   "codemirror_mode": {
    "name": "ipython",
    "version": 3
   },
   "file_extension": ".py",
   "mimetype": "text/x-python",
   "name": "python",
   "nbconvert_exporter": "python",
   "pygments_lexer": "ipython3",
   "version": "3.9.15"
  }
 },
 "nbformat": 4,
 "nbformat_minor": 2
}
