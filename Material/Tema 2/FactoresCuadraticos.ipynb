{
 "cells": [
  {
   "cell_type": "markdown",
   "metadata": {},
   "source": [
    "# Factores cuadráticos o Lin-Bairstow"
   ]
  },
  {
   "cell_type": "markdown",
   "metadata": {},
   "source": [
    "### Descripción"
   ]
  },
  {
   "cell_type": "markdown",
   "metadata": {},
   "source": [
    "Este método se utiliza para encontrar todas las raíces de polinomios que cumplan la forma:\n",
    "$$P(x) = a_0x^n + a_1x^{n-1} + \\dotsb + a_{n-1}x + a_n$$\n",
    "> Donde $a_k$ son constantes reales y $n$ es un número entero positivo.\n",
    "\n",
    "Para implementar este método se recomienda usar una tabla de la siguiente forma:\n",
    "\n",
    "<center>\n",
    "    <table>\n",
    "        <thead>\n",
    "            <tr>\n",
    "                <th>Iteración</th>\n",
    "                <th>p</th>\n",
    "                <th>q</th>\n",
    "                <th>b_0</th>\n",
    "                <th>b_1</th>\n",
    "                <th>···</th>\n",
    "                <th>b_n-3</th>\n",
    "                <th>b_n-2</th>\n",
    "                <th>R</th>\n",
    "                <th>S</th>\n",
    "                <th>Δ p</th>\n",
    "                <th>Δ q</th>\n",
    "            </tr>\n",
    "        </thead>\n",
    "        <tbody>\n",
    "            <tr>\n",
    "                <td>1</td>\n",
    "                <td></td>\n",
    "                <td></td>\n",
    "                <td></td>\n",
    "                <td></td>\n",
    "                <td></td>\n",
    "                <td></td>\n",
    "                <td></td>\n",
    "                <td></td>\n",
    "                <td></td>\n",
    "                <td></td>\n",
    "                <td></td>\n",
    "            </tr>\n",
    "            <tr>\n",
    "                <td>2</td>\n",
    "                <td></td>\n",
    "                <td></td>\n",
    "                <td></td>\n",
    "                <td></td>\n",
    "                <td></td>\n",
    "                <td></td>\n",
    "                <td></td>\n",
    "                <td></td>\n",
    "                <td></td>\n",
    "                <td></td>\n",
    "                <td></td>\n",
    "            </tr>\n",
    "            <tr>\n",
    "                <td>···</td>\n",
    "                <td></td>\n",
    "                <td></td>\n",
    "                <td></td>\n",
    "                <td></td>\n",
    "                <td></td>\n",
    "                <td></td>\n",
    "                <td></td>\n",
    "                <td></td>\n",
    "                <td></td>\n",
    "                <td></td>\n",
    "                <td></td>\n",
    "            </tr>\n",
    "            <tr>\n",
    "                <td>k-1</td>\n",
    "                <td></td>\n",
    "                <td></td>\n",
    "                <td></td>\n",
    "                <td></td>\n",
    "                <td></td>\n",
    "                <td></td>\n",
    "                <td></td>\n",
    "                <td></td>\n",
    "                <td></td>\n",
    "                <td></td>\n",
    "                <td></td>\n",
    "            </tr>\n",
    "            <tr>\n",
    "                <td>k</td>\n",
    "                <td></td>\n",
    "                <td></td>\n",
    "                <td></td>\n",
    "                <td></td>\n",
    "                <td></td>\n",
    "                <td></td>\n",
    "                <td></td>\n",
    "                <td></td>\n",
    "                <td></td>\n",
    "                <td></td>\n",
    "                <td></td>\n",
    "            </tr>\n",
    "    </table>\n",
    "</center>\n",
    "            \n"
   ]
  },
  {
   "cell_type": "markdown",
   "metadata": {},
   "source": [
    "### Explicación del método"
   ]
  },
  {
   "cell_type": "markdown",
   "metadata": {},
   "source": [
    "El funcionamiento del método es dividir el polinomio original entre un polinomio de la forma $x^2 + px + q$. El siguiente paso es encontrar los coeficientes del polinomio de grado $n-2$ que al multiplicarse por el polinomio de grado 2 propuesto se obtenga el polinomio original.\n",
    "$$P(x) = (x^2 + px + q) (b_0x^{n-2} + b_1x^{n-3} + \\dotsb + b_{n-3}x + b_{n-2})$$\n",
    "Recordemos que esto es una aproximación por lo que tiene asociado un error de la forma:\n",
    "$$Rx + S$$\n",
    "> De aquí se obtiene el primer criterio de convergencia: $R, S < tolerancia$\n",
    "\n",
    "Ya que se tienen los coeficientes: $p$, $q$, $b_k$ que cumplan la tolerancia se obtienen la primeras 2 raíces del polinomio utilizando la fórmula  cuadrática general. \n",
    "$$r_1, r_2 = \\frac{- p \\pm \\sqrt{p^2 - 4 q}}{2}$$\n",
    "Estos pasos se repiten hasta que el grado del polinomio de coeficientes $b_k$ sea menor a 2. "
   ]
  },
  {
   "cell_type": "markdown",
   "metadata": {},
   "source": [
    "### Fórmulas"
   ]
  },
  {
   "cell_type": "markdown",
   "metadata": {},
   "source": [
    "$$b_k = a_k - pb_{k-1} - qb_{k-2}$$\n",
    "Para $k = 0, 1, 2, \\dotsb, n-2$\n",
    "\n",
    "Se establece que $b_{-1} = 0$ y $b_{-2} = 0$\n",
    "$$R = a_{n-1} - pb_{n-2} - qb_{n-3}$$\n",
    "$$S = a_n - qb_{n-2}$$\n",
    "Para calcular los valores de $p$ y $q$ que se usarán en la siguiente iteración:\n",
    "$$p^* = p + \\Delta p$$\n",
    "$$q^* = q + \\Delta q$$\n",
    "Donde:\n",
    "$$\\Delta p = \\frac{R}{b_{n-2}}$$\n",
    "$$\\Delta q = \\frac{S}{b_{n-2}}$$\n",
    "Para la primera iteracion se establece que:\n",
    "$$p = \\frac{a_{n-1}}{a_{n-2}}$$\n",
    "$$q = \\frac{a_n}{a_{n-2}}$$\n",
    "> De aquí se obtiene el segundo criterio de convergencia: $\\Delta p, \\Delta q < tolerancia$ \n",
    "\n",
    "> Solo se debe de aplicar uno de los dos criterios de convergencia y ser constantes durante todo el método"
   ]
  },
  {
   "cell_type": "markdown",
   "metadata": {},
   "source": [
    "### Desventajas, ventajas y restricciones"
   ]
  },
  {
   "cell_type": "markdown",
   "metadata": {},
   "source": [
    "#### Desventajas\n",
    "* Solo funciona para polinomios\n",
    "* Si se trabaja con un polinomio de grado alto se deben realizar varias evaluaciones para encontrar las raíces\n",
    "#### Ventajas \n",
    "* Puede encontrar todas las raíces del polinomio (reales y complejas)\n",
    "#### Restricciones\n",
    "* En algunos casos no se puede aplicar el método ya que se debe realizar división entre cero y no hay forma de evitar ese paso"
   ]
  },
  {
   "cell_type": "markdown",
   "metadata": {},
   "source": [
    "### Aplicación"
   ]
  },
  {
   "cell_type": "markdown",
   "metadata": {},
   "source": [
    "En la ingeniería es muy común que tengamos que encontrar las raíces de alguna función para resolver el problema. Dependiendo de la función que querramos resolver se pueden aplicar métodos analíticos como la factorización pero en algunos casos no sera posible encontrar la raíz de manera analítica, en esos casos es cuando cobran importancia los métodos numéricos."
   ]
  },
  {
   "cell_type": "markdown",
   "metadata": {},
   "source": [
    "### Ejemplos"
   ]
  },
  {
   "cell_type": "markdown",
   "metadata": {},
   "source": [
    "* Obtener todas las raíces del polinomio: $P(x) = x^4 - x^3 + 6x^2 - 3x + 4$\n",
    "* Obtener todas las raíces del polinomio: $P(x) = 0.1x^5 + x^4 - x^3 + 6x^2 - 3x - 4$"
   ]
  },
  {
   "cell_type": "markdown",
   "metadata": {},
   "source": [
    "### Código"
   ]
  },
  {
   "cell_type": "markdown",
   "metadata": {},
   "source": [
    "A continuación se muestra el código para implementar el método de factores cuadráticos."
   ]
  },
  {
   "cell_type": "markdown",
   "metadata": {},
   "source": [
    "Si no tienes instaladas las bibliotecas necesarias, ejecuta la celda 'Instalar bibliotecas'. Si estas trabajando en el entorno se jupyterhub que ya esta configurado, no es necesario realizar este paso."
   ]
  },
  {
   "cell_type": "code",
   "execution_count": null,
   "metadata": {},
   "outputs": [],
   "source": [
    "# Instalar bibliotecas\n",
    "!pip install metodos_numericos_dcb_fi -U -q"
   ]
  },
  {
   "cell_type": "markdown",
   "metadata": {},
   "source": [
    "Para importar las bibliotecas necesarias, ejecuta la celda 'Importar las bibliotecas'."
   ]
  },
  {
   "cell_type": "code",
   "execution_count": 1,
   "metadata": {},
   "outputs": [],
   "source": [
    "import metodos_numericos_dcb_fi.utilidades as ut\n",
    "from metodos_numericos_dcb_fi.utilidades import maxIteraciones\n",
    "from ipywidgets import interact, fixed, FloatText"
   ]
  },
  {
   "cell_type": "markdown",
   "metadata": {},
   "source": [
    "Si al ejecutar la celda anterior aparece un error del tipo 'Not module named ...', 'No se ha podido resolver la importacion ...' o cualquier otro relacionado a las bibliotecas necesarias, ejecuta la celda 'Solucion de error de bibliotecas'. Remplaza <biblioteca> por el nombre de la biblioteca que aparece en el error. Reinicia el kernel y ejecuta de nuevo la celda 'Importar las bibliotecas'. Si no aparece ningun error, continua con la ejecución de las celdas posteriores."
   ]
  },
  {
   "cell_type": "code",
   "execution_count": null,
   "metadata": {},
   "outputs": [],
   "source": [
    "# Solicion de error de bibliotecas\n",
    "!pip install <biblioteca> -U -q"
   ]
  },
  {
   "cell_type": "markdown",
   "metadata": {},
   "source": [
    "En esta celda se codifica el método de *factores cuadraticos*. Ejecuta la celda para que el método esté disponible en las celdas posteriores."
   ]
  },
  {
   "cell_type": "code",
   "execution_count": 2,
   "metadata": {},
   "outputs": [],
   "source": [
    "# Codificando el método\n",
    "def Factores_cuadraticos(coeficientes, tol):\n",
    "    n = len(coeficientes) - 1 # Grado del polinomio\n",
    "    ut.mostrarPolinomio(coeficientes) # Mostramos el polinomio con el q ue se va a trabajar\n",
    "    ut.graficarPolinomio(coeficientes) # Graficamos el polinomio\n",
    "    if len(coeficientes) == 2: # Se entra si el polinomio es de grado 1 -> a_0*x + a_1\n",
    "        raiz = ut.obtenerRaiz(coeficientes) # Obtener la raíz usando la fórmula de la raíz de un polinomio de grado 1\n",
    "        ut.mostrarRaiz(raiz) # Mostrar la raíz\n",
    "        return # Terminar la ejecución ya que no hay más raíces\n",
    "    if len(coeficientes) == 3: # Se entra si el polinomio es de grado 2 -> a_0*x^2 + a_1*x + a_2\n",
    "        raices = ut.obtenerRaiz(coeficientes) # Obtener las raíces usando la fórmula general de las raíces de un polinomio de grado 2\n",
    "        ut.mostrarRaiz(raices) # Mostrar la primera raíz\n",
    "        return # Terminar la ejecución ya que no hay más raíces\n",
    "    p = coeficientes[n - 1] / coeficientes[n - 2] # Valor inicial de p\n",
    "    q = coeficientes[n] / coeficientes[n - 2] # Valor inicial de q\n",
    "    i = 0 # Contador de iteraciones\n",
    "    cumple_tol = False # Bandera para saber si se cumple la tolerancia\n",
    "    tablaResultados = ut.crearTablaFactoresCuadraticos(coeficientes) # Crear la tabla para mostrar los resultados\n",
    "    \n",
    "    while not cumple_tol and i < ut.maxIteraciones: # Mientras no se cumpla la tolerancia\n",
    "        i = i + 1 # Actualizar el contador de iteraciones\n",
    "        b = [0, 0] # Inicializar el polinomio el arreglo de los coeficientes de b con b_-2 y b_-1\n",
    "        for k in range(n - 1):\n",
    "            b_k = coeficientes[k] - p * b[- 1] - q * b[- 2] # Calcular b_k\n",
    "          # b_k =             a_k - p * b_k-1 - q  * b_k-2\n",
    "            b.append(b_k) # Agregar b_k a la lista de coeficientes de b\n",
    "        R = coeficientes[- 2] - p * b[- 1] - q * b[- 2] # Calcular R\n",
    "      # R =             a_n-1 - p * b_n-2 - q  * b_n-3\n",
    "        S = coeficientes[- 1] - q * b[- 1] # Calcular S\n",
    "      # S =              a_n  - q * b_n-2  \n",
    "        dp = R / b[- 1] # Calcular dp\n",
    "      # dp = R /  b_n-2 \n",
    "        dq = S / b[- 1] # Calcular dq\n",
    "      # dq = S /  b_n-2   \n",
    "        tablaResultados = ut.agregarRenglonFactoresCuadraticos(tablaResultados, p, q, b[2:], R, S, dp, dq) # Agregar los valores calculados a la tabla\n",
    "        p = p + dp # Actualizar p\n",
    "        q = q + dq # Actualizar q\n",
    "        if abs(R) < tol and abs(S) < tol: # Se entra si se cumple la tolerancia\n",
    "            cumple_tol = True\n",
    "\n",
    "    ut.mostrarTablaFactoresCuadraticos(tablaResultados) # Mostrar la tabla con los resultados\n",
    "\n",
    "    if not cumple_tol: # Se entra si no se cumple la tolerancia pero se alcanzo el numero maximo de iteraciones\n",
    "        print('No se alcanzo la tolerancia en el numero maximo de iteraciones')\n",
    "        return # Terminar el método ya que si se continua los valores de p, q y coeficientes de b no son correctos\n",
    "    ut.mostrarPolinomio([1, p, q]) # Mostramos el polinomio de grado 2 obtenido\n",
    "    ut.graficarPolinomio([1, p, q]) # Graficamos el polinomio\n",
    "    raices = ut.obtenerRaiz([1, p, q]) # Obtener las raíces usando la fórmula general de las raíces de un polinomio de grado 2\n",
    "    ut.mostrarRaiz(raices) # Mostrar la primera raíz\n",
    "    if n - 2 == 0: # Ya se obtuvieron todas las raíces y se termina el método\n",
    "        return\n",
    "    else:\n",
    "        Factores_cuadraticos(b[2:], tol) # Aplicar el metodo al polinomio de grado n-2 de coeficientes b. Se inicia en b[2:] ya que b[0] y b[1] son b_-2 y b_-1 respectivamente"
   ]
  },
  {
   "cell_type": "markdown",
   "metadata": {},
   "source": [
    "Ejecuta esta celda cada que quieras ingresar una nueva función y volver a ejecutar el método. Si quieres variar la tolerancia lo puedes hacer sin tener que volver a ingresar el polinomio. Puedes interactuar con la gráfica para ver los valores del polinomio y como se aproxima a la solucion el método. Tienes la opcion de moverte en la grafica, hacer zoom, guardar la imagen, entre otras acciones.\n",
    "\n",
    "Nota 1: Al ingresar el polinomio se deben seguir las reglas y sintaxis propuestas, de lo contrario se mostrará un mensaje de error. Después de haber ingresado un polinomio válido ingresa la $tolerancia$. \n",
    "\n",
    "Nota 2: se utiliza el criterio de convergencia: $R, S < tolerancia$\n",
    "\n",
    "Nota 3: si se llega al maximo de iteraciones (20) y todavia no se alcanza la tolerancia se terminara la ejecución"
   ]
  },
  {
   "cell_type": "code",
   "execution_count": null,
   "metadata": {},
   "outputs": [],
   "source": [
    "# Celda usuario\n",
    "coeficientes = ut.leerPolinomio()\n",
    "if coeficientes != None:\n",
    "    interact(Factores_cuadraticos, \n",
    "             coeficientes=fixed(coeficientes), \n",
    "             tol=FloatText(value=1e-6, description='Tolerancia:'))\n"
   ]
  },
  {
   "cell_type": "markdown",
   "metadata": {},
   "source": [
    "### Videos de apoyo"
   ]
  },
  {
   "cell_type": "markdown",
   "metadata": {},
   "source": [
    "Ejecuta la siguiente celda para ver los videos recomendados."
   ]
  },
  {
   "cell_type": "code",
   "execution_count": null,
   "metadata": {},
   "outputs": [],
   "source": [
    "from IPython.display import YouTubeVideo\n",
    "ytv = YouTubeVideo('bYalFpVb3lw')\n",
    "ytv2 = YouTubeVideo('0exOuTvWpUs')\n",
    "display(ytv)\n",
    "display(ytv2)"
   ]
  },
  {
   "cell_type": "markdown",
   "metadata": {},
   "source": [
    "### Referencias"
   ]
  },
  {
   "cell_type": "markdown",
   "metadata": {},
   "source": [
    "[1] Chapra, S. C., & Canale, R. P. (2011). Métodos numéricos para ingenieros (6.a ed.) [Electrónico]. [enlace](https://eds.s.ebscohost.com/eds/detail/detail?vid=2&sid=5ad28e1c-ae1c-4a2c-99e4-bd280e8b1618%40redis&bdata=Jmxhbmc9ZXMmc2l0ZT1lZHMtbGl2ZQ%3d%3d#AN=lib.MX001001698818&db=cat02025a)\n",
    "\n",
    "[2] Irrirarte, R., Borras, H. E., & Duran, R. (s. f.). Apuntes de métodos numéricos [Electrónico]. Facultad de Ingeniería. [enlace](https://dcb.ingenieria.unam.mx/wp-content/themes/tempera-child/CoordinacionesAcademicas/CA/AN/MaterialDigital/Apuntes.pdf)"
   ]
  }
 ],
 "metadata": {
  "kernelspec": {
   "display_name": ".venv",
   "language": "python",
   "name": "python3"
  },
  "language_info": {
   "codemirror_mode": {
    "name": "ipython",
    "version": 3
   },
   "file_extension": ".py",
   "mimetype": "text/x-python",
   "name": "python",
   "nbconvert_exporter": "python",
   "pygments_lexer": "ipython3",
   "version": "3.12.3"
  }
 },
 "nbformat": 4,
 "nbformat_minor": 2
}
