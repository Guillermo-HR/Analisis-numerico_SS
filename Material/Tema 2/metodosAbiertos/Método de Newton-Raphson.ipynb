{
 "cells": [
  {
   "cell_type": "markdown",
   "id": "8f11e6a3",
   "metadata": {},
   "source": [
    "# Método de Newton-Raphson"
   ]
  },
  {
   "cell_type": "markdown",
   "id": "7d2365ee",
   "metadata": {},
   "source": [
    "### Descripción"
   ]
  },
  {
   "cell_type": "markdown",
   "id": "fedb29eb",
   "metadata": {},
   "source": [
    "Este método es de los más comunes y fáciles de entender, utiliza el concepto de Serie de Taylor para encontrar la siguiente aproximación a la raíz.\n",
    "> Método abierto: Son métodos que requieren solo de un valor de inicio, estos métodos no siempre convergen pero cuando llegan a la convergencia por lo general es más rápido que en los métodos cerrados.\n"
   ]
  },
  {
   "cell_type": "markdown",
   "id": "e7446ba7",
   "metadata": {},
   "source": [
    "### Explicación del método"
   ]
  },
  {
   "cell_type": "markdown",
   "id": "e54431f5",
   "metadata": {},
   "source": [
    "Para encontrar la siguiente aproximación de la raíz se busca el punto donde la derivada de la función evaluada en la aproximación anterior interseca el eje de las $x$. La fórmula viene de la definición de derivada:\n",
    "$$f’(x_i) = \\frac{f(x_i)-0}{x_i-x_i+1}$$\n",
    "Se despeja el valor de $x_i+1$\n",
    "$$x_i+1 = x_i - \\frac{f(x_i)}{f’(x_i)}$$\n",
    "En la siguiente imagen se muestran las primeras 3 iteraciones del método:\n",
    "\n",
    "\n",
    "<img\n",
    "    src = \"../figurasTexto/graf1_N-R.png\"\n",
    "/>\n"
   ]
  },
  {
   "cell_type": "markdown",
   "id": "da3e02d7",
   "metadata": {},
   "source": [
    "### Desventajas, ventajas y restricciones"
   ]
  },
  {
   "cell_type": "markdown",
   "id": "c04c3101",
   "metadata": {},
   "source": [
    "#### Desventajas\n",
    "* El método sólo puede encontrar 1 raíz cada vez que se ejecuta.\n",
    "* El método sólo puede encontrar raíces reales.\n",
    "* En algunos casos puede no converger o hacerlo muy lento.\n",
    "* No tiene un criterio de convergencia.\n",
    "#### Ventajas \n",
    "* Si el punto que se eligió como $x_0$ no lleva a la convergencia se puede variar por alguno cercano y es probable que si se llegue a la convergencia.\n",
    "* Tiende a ser eficiente para ecuaciones no lineales.\n",
    "* Su aplicación no se limita a polinomios.\n",
    "#### Restricciones\n",
    "* La función $f(x)$ debe ser continua y derivable\n",
    "* La derivada de la función debe ser distinta de 0 en $x_i$\n"
   ]
  },
  {
   "cell_type": "markdown",
   "id": "861f1740",
   "metadata": {},
   "source": [
    "### Aplicación"
   ]
  },
  {
   "cell_type": "markdown",
   "id": "82f1847c",
   "metadata": {},
   "source": [
    "En la ingeniería es muy común que tengamos que encontrar las raíces de alguna función para resolver el problema. Dependiendo de la función que querramos resolver se pueden aplicar métodos analíticos como la factorización pero en algunos casos no sera posible encontrar la raíz de manera analítica, en esos casos es cuando cobran importancia los métodos numéricos."
   ]
  },
  {
   "cell_type": "markdown",
   "id": "6e76638b",
   "metadata": {},
   "source": [
    "### Ejemplos"
   ]
  },
  {
   "cell_type": "markdown",
   "id": "babb68e1",
   "metadata": {},
   "source": [
    "* Encontrar la raíz de $f(x) = sen(x)$ con un error de $1E-3$ centrado en $x_0 = 1.3$.\n",
    "* Del ejemplo anterior encontrar la raíz más cercana a $x_0 = 1.4$, $x_0 = 1.41$. Observa como varia la raíz encontrada dependiendo del valor inicial.\n",
    "* Encuentra la raíz de $f(x) = x^{10}-1$ con $tolerancia = 0.001$ y $x_0 = 0$. Observa que se genera un error ¿a qué crees que se deba? Intenta resolver el ejercicio a mano.\n",
    "* Con el mismo polinomio del ejercicio anterior encuentra la raíz con $x_0 = 0.5$. La raíz del polinomio es $x = 1$ pero el método no converge a ella en el límite de 20 iteraciones, ¿por qué crees que sucede esto si el valor inicial es tan cercano a la raíz?"
   ]
  },
  {
   "cell_type": "markdown",
   "id": "07067cb3",
   "metadata": {},
   "source": [
    "### Código"
   ]
  },
  {
   "cell_type": "markdown",
   "id": "3e1571db",
   "metadata": {},
   "source": [
    "A continuación se muestra el código para implementar el método de Newton-Raphson. Para utilizarlo ejecuta las 2 primeras celdas ('Importar las bibliotecas' y 'Codificando el método'), para ingresar una nueva función se debe ejecutar la celda 'Celda usuario'. Al ingresar la función se deben seguir las reglas y sintaxis propuestas, de lo contrario se mostrará un mensaje de error. Después de haber ingresado una función válida ingresa en los cuadros correspondientes los valores de $x_0$ y $tolerancia$.\n",
    "\n",
    "Nota 1: El valor de $x_0$ debe ser un número real.\n",
    "\n",
    "Nota 2: La tolerancia debe ser un numero real mayor a 0.\n",
    "\n",
    "Nota 3: Si la función no converge el programa se seguira ejecutando hasta que se cumpla el número máximo de iteraciones (20 iteraciones).\n",
    "\n",
    "<img \n",
    "    src = \"../figurasTexto/df_N-R.jpeg\"\n",
    "    heigth = \"10px\"\n",
    "/>"
   ]
  },
  {
   "cell_type": "code",
   "execution_count": null,
   "id": "15744144",
   "metadata": {},
   "outputs": [],
   "source": [
    "# Instalar bibliotecas\n",
    "!pip install --quiet --upgrade metodos_numericos_dcb_fi\n",
    "!pip install --quiet --upgrade plotly\n",
    "!pip install --quiet --upgrade nbformat"
   ]
  },
  {
   "cell_type": "code",
   "execution_count": null,
   "id": "1332669b",
   "metadata": {},
   "outputs": [],
   "source": [
    "# Importar las librerias\n",
    "import metodos_numericos_dcb_fi.utilidades as ut\n",
    "from metodos_numericos_dcb_fi.utilidades import maxIteraciones\n",
    "import sympy as sp\n",
    "from sympy.abc import x\n",
    "from ipywidgets import interact, fixed\n",
    "import ipywidgets as widgets"
   ]
  },
  {
   "cell_type": "code",
   "execution_count": null,
   "id": "32731d94",
   "metadata": {},
   "outputs": [],
   "source": [
    "# Codificando el metodo\n",
    "def Newton_Raphson(f, x_0, tolerancia):\n",
    "    x_0, tol = ut.validarDatosNR(x_0, tolerancia) # Validar los datos de entrada\n",
    "    ut.graficarNR(f, x_0, tolerancia) # Graficar la función\n",
    "    df = sp.diff(f.f_text, x) # Derivar la función\n",
    "    df = sp.lambdify(x, df) # Funcion df evaluable\n",
    "    f = f.f # Obtener la función ejecutable\n",
    "    x_anterior = x_0 # Valor inicial de x\n",
    "    i = 1 # Contador de iteraciones\n",
    "    while i <= maxIteraciones: # Mientras no se cumpla la tolerancia ejecutar el ciclo\n",
    "        x_nueva = x_anterior - (f(x_anterior)/df(x_anterior)) # Calcular el nuevo valor de x\n",
    "        print(f'Raíz aproximada iteracion {i}: {round(x_nueva,5)}') # Imprimir la aproximación de la raíz\n",
    "        if f(x_nueva) == 0:\n",
    "            print(f'\\nLa raíz exacta es: {round(x_nueva, 5)}')\n",
    "            break\n",
    "        if abs(f(x_nueva)) < tol:\n",
    "            print(f'\\nLa raíz aproximada es: {round(x_nueva, 5)}')\n",
    "            break\n",
    "        x_anterior = x_nueva # Actualizar el valor de x_anterior para la siguiente iteración\n",
    "        i += 1 # Aumentar el contador de iteraciones\n",
    "    if i > maxIteraciones:\n",
    "        print('\\nSe alcanzó el número máximo de iteraciones y no se encontro la raíz.')"
   ]
  },
  {
   "cell_type": "code",
   "execution_count": null,
   "id": "56956c5f",
   "metadata": {},
   "outputs": [],
   "source": [
    "# Celda usuario\n",
    "f=ut.leerFuncion()\n",
    "x_0= float(input(\"Ingrese el valor de x_0\"))\n",
    "tolerancia= float(input(\"Ingrese la tolerancia\"))\n",
    "Newton_Raphson(f, x_0, tolerancia)"
   ]
  },
  {
   "cell_type": "code",
   "execution_count": null,
   "id": "37456d99",
   "metadata": {},
   "outputs": [],
   "source": [
    "# Celda usuario\n",
    "f = ut.leerFuncion()\n",
    "if f != None:\n",
    "    interact(Newton_Raphson,\n",
    "            f = fixed(f),\n",
    "            x_0 = widgets.FloatText(-10, description='x_0'),\n",
    "            tolerancia = widgets.FloatText(value=0.001, description='Tolerancia:')\n",
    "    )"
   ]
  },
  {
   "cell_type": "markdown",
   "id": "4c27be51",
   "metadata": {},
   "source": [
    "### Videos de apoyo"
   ]
  },
  {
   "cell_type": "markdown",
   "id": "30bbc209",
   "metadata": {},
   "source": [
    "Ejecuta la siguiente celda para ver los videos recomendados."
   ]
  },
  {
   "cell_type": "code",
   "execution_count": null,
   "id": "79a2120b",
   "metadata": {},
   "outputs": [],
   "source": [
    "from IPython.display import YouTubeVideo\n",
    "ytv = YouTubeVideo('o0Pa8UzO62I')\n",
    "ytv2 = YouTubeVideo('4QMZ_m8DnFE')\n",
    "display(ytv)\n",
    "display(ytv2)"
   ]
  },
  {
   "cell_type": "markdown",
   "id": "2b4c981d",
   "metadata": {},
   "source": [
    "### Referencias"
   ]
  },
  {
   "cell_type": "markdown",
   "id": "0e9ebfd0",
   "metadata": {},
   "source": [
    "[1] Chapra, S. C., & Canale, R. P. (2011). Métodos numéricos para ingenieros (6.a ed.) [Electrónico]. [enlace](https://eds.s.ebscohost.com/eds/detail/detail?vid=2&sid=5ad28e1c-ae1c-4a2c-99e4-bd280e8b1618%40redis&bdata=Jmxhbmc9ZXMmc2l0ZT1lZHMtbGl2ZQ%3d%3d#AN=lib.MX001001698818&db=cat02025a)\n",
    "\n",
    "[2] Carnahan, B., Luther, H. A., & Wilkes, J. O. (1990). Applied Numerical methods. Krieger Publishing Company. \n",
    "[Ubicación Facultad de Ingeniería, UNAM](https://eds.s.ebscohost.com/eds/detail/detail?vid=2&sid=7bf807f7-00a8-433e-ab55-6e0dbb10d8fd%40redis&bdata=Jmxhbmc9ZXMmc2l0ZT1lZHMtbGl2ZQ%3d%3d#AN=lib.MX001000592290&db=cat02025a)"
   ]
  }
 ],
 "metadata": {
  "kernelspec": {
   "display_name": "Python 3 (ipykernel)",
   "language": "python",
   "name": "python3"
  },
  "language_info": {
   "codemirror_mode": {
    "name": "ipython",
    "version": 3
   },
   "file_extension": ".py",
   "mimetype": "text/x-python",
   "name": "python",
   "nbconvert_exporter": "python",
   "pygments_lexer": "ipython3",
   "version": "3.10.5"
  }
 },
 "nbformat": 4,
 "nbformat_minor": 5
}
