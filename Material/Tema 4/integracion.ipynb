{
 "cells": [
  {
   "cell_type": "markdown",
   "metadata": {},
   "source": [
    "# Integración numérica"
   ]
  },
  {
   "cell_type": "markdown",
   "metadata": {},
   "source": [
    "### Descripción"
   ]
  },
  {
   "cell_type": "markdown",
   "metadata": {},
   "source": [
    "En el ámbito de la ingeniería es común tener que resolver la integral de una función en un intervalo para poder solucionar algún problema. Existen algunos casos donde $f(x)$ es complicado de integrar o imposible. Para poder integrar estas funciones numéricamente existen dos grupos de métodos Newton-Cotes y cuadratura Gaussiana. En este cuaderno se presentan los métodos de Newton-Coles."
   ]
  },
  {
   "cell_type": "markdown",
   "metadata": {},
   "source": [
    "### Explicación de los métodos"
   ]
  },
  {
   "cell_type": "markdown",
   "metadata": {},
   "source": [
    "Los métodos de Newton-Coles utilizan un polinomio de interpolación para aproximar la función que se desea integrar. "
   ]
  },
  {
   "cell_type": "markdown",
   "metadata": {},
   "source": [
    "#### Trapecio\n",
    "Utiliza un polinomio de grado 1 para aproximar la función, la fórmula es:\n",
    "$$Int=h\\left[f(a)+f(b)\\right]$$\n",
    "> Donde $h=\\frac{b-a}{2}$<br>"
   ]
  },
  {
   "cell_type": "markdown",
   "metadata": {},
   "source": [
    "#### Simpson $1/3$ \n",
    "Utiliza un polinomio de grado 2 para aproximar la función, la fórmula es:\n",
    "$$Int=\\frac{h}{3}\\left[f(a)+4f(\\frac{a+b}{2})+f(b)\\right]$$\n",
    "> Donde $h=\\frac{b-a}{2}$"
   ]
  },
  {
   "cell_type": "markdown",
   "metadata": {},
   "source": [
    "#### Simpson $3/8$ \n",
    "Utiliza un polinomio de grado 3 para aproximar la función, la fórmula es:\n",
    "$$Int=\\frac{3}{8}h\\left[f(a)+3f\\left(\\frac{2a+b}{3}\\right)+3f\\left(\\frac{a+2b}{3}\\right)+f(b)\\right]$$\n",
    "> Donde $h=\\frac{b-a}{3}$"
   ]
  },
  {
   "cell_type": "markdown",
   "metadata": {},
   "source": [
    "### Desventajas, ventajas y restricciones"
   ]
  },
  {
   "cell_type": "markdown",
   "metadata": {},
   "source": [
    "#### Desventajas\n",
    "* Existen casos en los que por los límites de integración no se puede obtener un resultado correcto y no se puede hacer nada para corregir esto.\n",
    "* En algunas funciones no se adapta correctamente el método y no se obtiene un resultado correcto."
   ]
  },
  {
   "cell_type": "markdown",
   "metadata": {},
   "source": [
    "#### Ventajas \n",
    "* Permite integrar con un error mínimo y con gran facilidad cualquier función."
   ]
  },
  {
   "cell_type": "markdown",
   "metadata": {},
   "source": [
    "#### Restricciones\n",
    "* La función que se va a integrar tiene que ser continua en el intervalo $[a, b]$"
   ]
  },
  {
   "cell_type": "markdown",
   "metadata": {},
   "source": [
    "### Ejemplos"
   ]
  },
  {
   "cell_type": "markdown",
   "metadata": {},
   "source": [
    "* Obtén la integral de $f(x)=5xsin(x)$ en el intervalo $[-2, 5]$ comprueba que el resultado es incorrecto.\n",
    "* Obtén la integral de $f(x)=x^4-3x^2-3$ en el intervalo $[0, 10]$ compara ambos métodos de Simpson.\n",
    "* Obtén la integral de $f(x)=400x^5-900x^4+675x^3-200x^2+25x+0.2$ en el intervalo $[0, 0.8]$ compara los resultados al aplicar los métodos de Simpson y el trapecio."
   ]
  },
  {
   "cell_type": "markdown",
   "metadata": {},
   "source": [
    "### Código"
   ]
  },
  {
   "cell_type": "markdown",
   "metadata": {},
   "source": [
    "A continuación se muestra el código para implementar los métodos de trapecio, Simpson 1/3 y Simpson 3/8. Para utilizarlos ejecuta la primera celda ('Importar las librerías’) y las celdas ‘Codificando el método’, para ingresar una nueva función se debe ejecutar la celda 'Celda usuario' correspondiente al método que se quiera implementar. Al ingresar la función se deben seguir las reglas y sintaxis propuestas, de lo contrario se mostrará un mensaje de error. \n",
    "Nota 1: Para modificar los límites de integración se debe ingresar el nuevo límite en el espacio correspondiente"
   ]
  },
  {
   "cell_type": "code",
   "execution_count": null,
   "metadata": {},
   "outputs": [],
   "source": [
    "import numpy as np\n",
    "from math import *\n",
    "import sys\n",
    "sys.path.insert(0, '../../configuracion')\n",
    "import utilidades as ut\n",
    "%pip install plotly --q\n",
    "import plotly.express as px\n",
    "import plotly.graph_objects as go # ¡¡¡NO MODIFICAR!!!\n",
    "import sympy as sp\n",
    "from sympy.abc import x\n",
    "from ipywidgets import interact, fixed\n",
    "import ipywidgets as widgets"
   ]
  },
  {
   "cell_type": "markdown",
   "metadata": {},
   "source": [
    "### Método del trapecio"
   ]
  },
  {
   "cell_type": "code",
   "execution_count": null,
   "metadata": {},
   "outputs": [],
   "source": [
    "# Codificando el método\n",
    "def trapecio(f_, a, b):\n",
    "    h = (b-a)/2 # Calcular h\n",
    "    f = sp.lambdify(x, f_) # Convertir la funcion a una expresion lambda\n",
    "    integral = h*((f(a)+f(b))) # Aplicar el metodo\n",
    "\n",
    "    # Graficar\n",
    "    titulo = f'Metodo del Trapecio con intervalo [{a}, {b}]' # Titulo de la grafica\n",
    "    eje_x = 'x' # Nombre del eje x\n",
    "    eje_y = 'f(x)' # Nombre del eje y\n",
    "    rango_x = np.linspace(a, b, 500, dtype = 'float') # Rango en x\n",
    "    funcion = [f(x) for x in rango_x] # Rango en y\n",
    "\n",
    "    fig = go.Figure() # Crear figura\n",
    "    trapecio = go.Scatter(x = [a, b], y = [f(a), f(b)], name=f'Método<br>{round(integral,4)}', line=dict(dash = \"dash\", color='red', width=2), fill = 'tozeroy')\n",
    "    fig.add_trace(go.Scatter(x = rango_x, y = funcion, name=f'f(x) = {f_}', line=dict(color='blue', width=2))) # Graficar f(x)\n",
    "    fig.add_trace(go.Scatter(x = rango_x, y = funcion, name=f'Analítico<br>{round(sp.integrate(f_, (x, a, b)), 4)}', line=dict(color='blue', width=2), fill = 'tozeroy')) # Graficar f(x)\n",
    "    fig.add_trace(trapecio) # Graficar metodo\n",
    "    fig.add_trace(go.Scatter(x = [a, b], y = [f(a), f(b)], mode='markers', name='Puntos trapecio', marker=dict(color='red', size=10)))\n",
    "    fig.update_layout(title=titulo, title_x=0.5, xaxis_title=eje_x, yaxis_title=eje_y) # ¡¡¡NO MODIFICAR!!!\n",
    "    fig.show() # ¡¡¡NO MODIFICAR!!!"
   ]
  },
  {
   "cell_type": "code",
   "execution_count": null,
   "metadata": {},
   "outputs": [],
   "source": [
    "# Celda usuario\n",
    "f = ut.leerFuncion() # Leer la función\n",
    "interact(trapecio, \n",
    "        f_=fixed(f), \n",
    "        a=widgets.FloatText(value=0,description='a',disabled=False),\n",
    "        b=widgets.FloatText(value=1,description='b',disabled=False),\n",
    "        n=widgets.Play(value=1,min=1,max=50,step=1,disabled=False,interval=1000)\n",
    "        #n=widgets.IntSlider(value=1,min=1,max=30,step=1)\n",
    "        )"
   ]
  },
  {
   "cell_type": "markdown",
   "metadata": {},
   "source": [
    "### Método de Simpson 1/3"
   ]
  },
  {
   "cell_type": "code",
   "execution_count": null,
   "metadata": {},
   "outputs": [],
   "source": [
    "# Codificando el método\n",
    "def simpson1_3(f_, a, b,):\n",
    "    h = (b-a)/2 # Calcular h\n",
    "    f = sp.lambdify(x, f_) # Convertir la funcion a una expresion lambda\n",
    "    integral = h*(f(a)+4*f((a+b)/2)+f(b))/3 # Aplicar el metodo\n",
    "\n",
    "    # Graficar\n",
    "    titulo = f'Metodo de Simpson 1/3 con intervalo [{a}, {b}]' # Titulo de la grafica\n",
    "    eje_x = 'x' # Nombre del eje x\n",
    "    eje_y = 'f(x)' # Nombre del eje y\n",
    "    rango_x = np.linspace(a, b, 500, dtype = 'float') # Rango en x\n",
    "    funcion = [f(x) for x in rango_x] # Rango en y\n",
    "    # obtener la funcion se la parabola que pasa por los puntos (a, f(a)), ((a+b)/2, f((a+b)/2)), (b, f(b))\n",
    "    parabola = np.polyfit([a, (a+b)/2, b], [f(a), f((a+b)/2), f(b)], 2)\n",
    "    parabola = np.poly1d(parabola)\n",
    "    \n",
    "    fig = go.Figure() # Crear figura\n",
    "    simpson1_3 = go.Scatter(x = rango_x, y = [parabola(x) for x in rango_x], name=f'Método<br>{round(integral,4)}', line=dict(color='red', width=2, dash = \"dash\"), fill = 'tozeroy')\n",
    "    fig.add_trace(go.Scatter(x = rango_x, y = funcion, name=f'f(x) = {f_}', line=dict(color='blue', width=2))) # Graficar f(x)\n",
    "    fig.add_trace(go.Scatter(x = rango_x, y = funcion, name=f'Analítico<br>{round(sp.integrate(f_, (x, a, b)), 4)}', line=dict(color='blue', width=2), fill = 'tozeroy')) # Graficar f(x)\n",
    "    fig.add_trace(simpson1_3) # Graficar metodo\n",
    "    # graficar solo los 3 puntos que se usaron para calcular la parabola\n",
    "    fig.add_trace(go.Scatter(x = [a, (a+b)/2, b], y = [f(a), f((a+b)/2), f(b)], mode='markers', name='Puntos parabola', marker=dict(color='red', size=10)))\n",
    "    fig.update_layout(title=titulo, title_x=0.5, xaxis_title=eje_x, yaxis_title=eje_y) # ¡¡¡NO MODIFICAR!!!\n",
    "    fig.show() # ¡¡¡NO MODIFICAR!!!\n",
    "    "
   ]
  },
  {
   "cell_type": "code",
   "execution_count": null,
   "metadata": {},
   "outputs": [],
   "source": [
    "# Celda usuario\n",
    "f = ut.leerFuncion() # Leer la función\n",
    "interact(simpson1_3, \n",
    "        f_=fixed(f), \n",
    "        a=widgets.FloatText(value=0,description='a',disabled=False),\n",
    "        b=widgets.FloatText(value=1,description='b',disabled=False)\n",
    "        )"
   ]
  },
  {
   "cell_type": "markdown",
   "metadata": {},
   "source": [
    "### Método de Simpson 3/8"
   ]
  },
  {
   "cell_type": "code",
   "execution_count": null,
   "metadata": {},
   "outputs": [],
   "source": [
    "# Codificando el método\n",
    "def simpson3_8(f_, a, b,):\n",
    "    h = (b-a)/3 # Calcular h\n",
    "    f = sp.lambdify(x, f_) # Convertir la funcion a una expresion lambda\n",
    "    integral = 3*h*(f(a)+3*f((2*a+b)/3)+3*f((a+2*b)/3)+f(b))/8 # Aplicar el metodo\n",
    "\n",
    "    # Graficar\n",
    "    titulo = f'Metodo de Simpson 3/8 con intervalo [{a}, {b}]' # Titulo de la grafica\n",
    "    eje_x = 'x' # Nombre del eje x\n",
    "    eje_y = 'f(x)' # Nombre del eje y\n",
    "    rango_x = np.linspace(a, b, 500, dtype = 'float') # Rango en x\n",
    "    funcion = [f(x) for x in rango_x] # Rango en y\n",
    "    # obtener la funcion se la cubica que pasa por los puntos (a, f(a)), ((a+b)/2, f((a+b)/2)), (b, f(b))\n",
    "    cubica = np.polyfit([a, (2*a+b)/3, (a+2*b)/3, b], [f(a), f((2*a+b)/3), f((a+2*b)/3), f(b)], 3)\n",
    "    cubica = np.poly1d(cubica)\n",
    "    \n",
    "    fig = go.Figure() # Crear figura\n",
    "    simpson3_8 = go.Scatter(x = rango_x, y = [cubica(x) for x in rango_x], name=f'Método<br>{round(integral,4)}', line=dict(color='red', width=2, dash = \"dash\"), fill = 'tozeroy')\n",
    "    fig.add_trace(go.Scatter(x = rango_x, y = funcion, name=f'f(x) = {f_}', line=dict(color='blue', width=2))) # Graficar f(x)\n",
    "    fig.add_trace(go.Scatter(x = rango_x, y = funcion, name=f'Analítico<br>{round(sp.integrate(f_, (x, a, b)), 4)}', line=dict(color='blue', width=2), fill = 'tozeroy')) # Graficar f(x)\n",
    "    fig.add_trace(simpson3_8) # Graficar metodo\n",
    "    # graficar los 4 puntos que se usaron para calcular la cubica\n",
    "    fig.add_trace(go.Scatter(x = [a, (2*a+b)/3, (a+2*b)/3, b], y = [f(a), f((2*a+b)/3), f((a+2*b)/3), f(b)], mode='markers', name='Puntos cúbica', marker=dict(color='red', size=10)))\n",
    "    fig.update_layout(title=titulo, title_x=0.5, xaxis_title=eje_x, yaxis_title=eje_y) # ¡¡¡NO MODIFICAR!!!\n",
    "    fig.show() # ¡¡¡NO MODIFICAR!!!\n",
    "    "
   ]
  },
  {
   "cell_type": "code",
   "execution_count": null,
   "metadata": {},
   "outputs": [],
   "source": [
    "# Celda usuario\n",
    "f = ut.leerFuncion() # Leer la función\n",
    "interact(simpson3_8, \n",
    "        f_=fixed(f), \n",
    "        a=widgets.FloatText(value=0,description='a',disabled=False),\n",
    "        b=widgets.FloatText(value=1,description='b',disabled=False)\n",
    "        )"
   ]
  },
  {
   "cell_type": "markdown",
   "metadata": {},
   "source": [
    "### Videos de apoyo"
   ]
  },
  {
   "cell_type": "markdown",
   "metadata": {},
   "source": [
    "Ejecuta la siguiente celda para ver los videos recomendados."
   ]
  },
  {
   "cell_type": "code",
   "execution_count": null,
   "metadata": {},
   "outputs": [],
   "source": [
    "from IPython.display import YouTubeVideo\n",
    "ytv = YouTubeVideo('rREhW5wjkUI')\n",
    "ytv2 = YouTubeVideo('4pCS8pLgqwI')\n",
    "display(ytv)\n",
    "display(ytv2)"
   ]
  },
  {
   "cell_type": "markdown",
   "metadata": {},
   "source": [
    "### Referencias"
   ]
  },
  {
   "cell_type": "markdown",
   "metadata": {},
   "source": [
    "[1] Chapra, S. C., & Canale, R. P. (2011). Métodos numéricos para ingenieros (6.a ed.) [Electrónico]. [enlace](https://eds.s.ebscohost.com/eds/detail/detail?vid=2&sid=5ad28e1c-ae1c-4a2c-99e4-bd280e8b1618%40redis&bdata=Jmxhbmc9ZXMmc2l0ZT1lZHMtbGl2ZQ%3d%3d#AN=lib.MX001001698818&db=cat02025a)\n",
    "\n",
    "[2] Carnahan, B., Luther, H. A., & Wilkes, J. O. (1990). Applied Numerical methods. Krieger Publishing Company. \n",
    "[Ubicación Facultad de Ingeniería, UNAM](https://eds.s.ebscohost.com/eds/detail/detail?vid=2&sid=7bf807f7-00a8-433e-ab55-6e0dbb10d8fd%40redis&bdata=Jmxhbmc9ZXMmc2l0ZT1lZHMtbGl2ZQ%3d%3d#AN=lib.MX001000592290&db=cat02025a)"
   ]
  }
 ],
 "metadata": {
  "kernelspec": {
   "display_name": ".venv",
   "language": "python",
   "name": "python3"
  },
  "language_info": {
   "codemirror_mode": {
    "name": "ipython",
    "version": 3
   },
   "file_extension": ".py",
   "mimetype": "text/x-python",
   "name": "python",
   "nbconvert_exporter": "python",
   "pygments_lexer": "ipython3",
   "version": "3.9.15"
  }
 },
 "nbformat": 4,
 "nbformat_minor": 2
}
