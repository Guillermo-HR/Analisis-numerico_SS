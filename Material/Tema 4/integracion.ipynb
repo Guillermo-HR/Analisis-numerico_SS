{
 "cells": [
  {
   "cell_type": "code",
   "execution_count": null,
   "metadata": {},
   "outputs": [],
   "source": [
    "import numpy as np\n",
    "from math import *\n",
    "import sys\n",
    "sys.path.insert(0, '../../configuracion')\n",
    "import utilidades as ut\n",
    "import plotly.express as px\n",
    "import plotly.graph_objects as go # ¡¡¡NO MODIFICAR!!!\n",
    "import sympy as sp\n",
    "from sympy.abc import x\n",
    "from ipywidgets import interact, fixed\n",
    "import ipywidgets as widgets"
   ]
  },
  {
   "cell_type": "markdown",
   "metadata": {},
   "source": [
    "### Método del trapecio"
   ]
  },
  {
   "cell_type": "code",
   "execution_count": null,
   "metadata": {},
   "outputs": [],
   "source": [
    "# Codificando el método\n",
    "def trapecio(f_, a, b, n):\n",
    "    h = (b-a)/n # Calcular h\n",
    "    f = sp.lambdify(x, f_) # Convertir la funcion a una expresion lambda\n",
    "    sumatoria = 0 # Inicializar la sumatoria\n",
    "    for i in range(1, n):\n",
    "        sumatoria += f(a+i*h) # Calcular la sumatoria\n",
    "    integral = h*((f(a)+f(b))/2 + sumatoria) # Aplicar el metodo\n",
    "\n",
    "    # Graficar\n",
    "    titulo = f'Metodo del Trapecio compuesto con intervalo [{a}, {b}] y {n} segmentos' # Titulo de la grafica\n",
    "    eje_x = 'x' # Nombre del eje x\n",
    "    eje_y = 'f(x)' # Nombre del eje y\n",
    "    rango_x = np.linspace(a, b, 500, dtype = 'float') # Rango en x\n",
    "    funcion = [f(x) for x in rango_x] # Rango en y\n",
    "\n",
    "    fig = go.Figure() # Crear figura\n",
    "    trapecio = go.Scatter(x = np.linspace(a, b, n+1, dtype = 'float'), y = [f(a)]+[f(a+i*h) for i in range(1, n)]+[f(b)], name=f'Método<br>{round(integral,4)}', line=dict(color='red', width=2), fill = 'tozeroy')\n",
    "    fig.add_trace(go.Scatter(x = rango_x, y = funcion, name=f'f(x) = {f_}', line=dict(color='blue', width=2))) # Graficar f(x)\n",
    "    fig.add_trace(go.Scatter(x = rango_x, y = funcion, name=f'Analítico<br>{round(sp.integrate(f_, (x, a, b)), 4)}', line=dict(color='blue', width=2), fill = 'tozeroy')) # Graficar f(x)\n",
    "    fig.add_trace(trapecio) # Graficar metodo\n",
    "    fig.update_layout(title=titulo, title_x=0.5, xaxis_title=eje_x, yaxis_title=eje_y) # ¡¡¡NO MODIFICAR!!!\n",
    "    fig.show() # ¡¡¡NO MODIFICAR!!!"
   ]
  },
  {
   "cell_type": "code",
   "execution_count": null,
   "metadata": {},
   "outputs": [],
   "source": [
    "# Celda usuario\n",
    "f = ut.leerFuncion() # Leer la función\n",
    "interact(trapecio, \n",
    "        f_=fixed(f), \n",
    "        a=widgets.FloatText(value=0,description='a',disabled=False),\n",
    "        b=widgets.FloatText(value=1,description='b',disabled=False),\n",
    "        n=widgets.Play(value=1,min=1,max=50,step=1,disabled=False,interval=1000)\n",
    "        #n=widgets.IntSlider(value=1,min=1,max=30,step=1)\n",
    "        )"
   ]
  },
  {
   "cell_type": "markdown",
   "metadata": {},
   "source": [
    "### Método de Simpson 1/3"
   ]
  },
  {
   "cell_type": "code",
   "execution_count": null,
   "metadata": {},
   "outputs": [],
   "source": [
    "# Codificando el método\n",
    "def simpson1_3(f_, a, b,):\n",
    "    h = (b-a)/2 # Calcular h\n",
    "    f = sp.lambdify(x, f_) # Convertir la funcion a una expresion lambda\n",
    "    integral = h*(f(a)+4*f((a+b)/2)+f(b))/3 # Aplicar el metodo\n",
    "\n",
    "    # Graficar\n",
    "    titulo = f'Metodo de Simpson 1/3 con intervalo [{a}, {b}]' # Titulo de la grafica\n",
    "    eje_x = 'x' # Nombre del eje x\n",
    "    eje_y = 'f(x)' # Nombre del eje y\n",
    "    rango_x = np.linspace(a, b, 500, dtype = 'float') # Rango en x\n",
    "    funcion = [f(x) for x in rango_x] # Rango en y\n",
    "    # obtener la funcion se la parabola que pasa por los puntos (a, f(a)), ((a+b)/2, f((a+b)/2)), (b, f(b))\n",
    "    parabola = np.polyfit([a, (a+b)/2, b], [f(a), f((a+b)/2), f(b)], 2)\n",
    "    parabola = np.poly1d(parabola)\n",
    "    \n",
    "    fig = go.Figure() # Crear figura\n",
    "    simpson = go.Scatter(x = rango_x, y = [parabola(x) for x in rango_x], name=f'Método<br>{round(integral,4)}', line=dict(color='red', width=2), fill = 'tozeroy')\n",
    "    fig.add_trace(go.Scatter(x = rango_x, y = funcion, name=f'f(x) = {f_}', line=dict(color='blue', width=2))) # Graficar f(x)\n",
    "    fig.add_trace(go.Scatter(x = rango_x, y = funcion, name=f'Analítico<br>{round(sp.integrate(f_, (x, a, b)), 4)}', line=dict(color='blue', width=2), fill = 'tozeroy')) # Graficar f(x)\n",
    "    fig.add_trace(simpson) # Graficar metodo\n",
    "    # graficar solo los 3 puntos que se usaron para calcular la parabola\n",
    "    fig.add_trace(go.Scatter(x = [a, (a+b)/2, b], y = [f(a), f((a+b)/2), f(b)], mode='markers', name='Puntos parabola', marker=dict(color='red', size=10)))\n",
    "    fig.update_layout(title=titulo, title_x=0.5, xaxis_title=eje_x, yaxis_title=eje_y) # ¡¡¡NO MODIFICAR!!!\n",
    "    fig.show() # ¡¡¡NO MODIFICAR!!!\n",
    "    "
   ]
  },
  {
   "cell_type": "code",
   "execution_count": null,
   "metadata": {},
   "outputs": [],
   "source": [
    "# Celda usuario\n",
    "f = ut.leerFuncion() # Leer la función\n",
    "interact(simpson1_3, \n",
    "        f_=fixed(f), \n",
    "        a=widgets.FloatText(value=0,description='a',disabled=False),\n",
    "        b=widgets.FloatText(value=1,description='b',disabled=False)\n",
    "        )"
   ]
  },
  {
   "cell_type": "markdown",
   "metadata": {},
   "source": [
    "### Método de Simpson 3/8"
   ]
  },
  {
   "cell_type": "code",
   "execution_count": null,
   "metadata": {},
   "outputs": [],
   "source": [
    "# Codificando el método\n",
    "def simpson3_8(f_, a, b,):\n",
    "    h = (b-a)/3 # Calcular h\n",
    "    f = sp.lambdify(x, f_) # Convertir la funcion a una expresion lambda\n",
    "    integral = 3*h*(f(a)+3*f((2*a+b)/3)+3*f((a+2*b)/3)+f(b))/8 # Aplicar el metodo\n",
    "\n",
    "    # Graficar\n",
    "    titulo = f'Metodo de Simpson 3/8 con intervalo [{a}, {b}]' # Titulo de la grafica\n",
    "    eje_x = 'x' # Nombre del eje x\n",
    "    eje_y = 'f(x)' # Nombre del eje y\n",
    "    rango_x = np.linspace(a, b, 500, dtype = 'float') # Rango en x\n",
    "    funcion = [f(x) for x in rango_x] # Rango en y\n",
    "    # obtener la funcion se la parabola que pasa por los puntos (a, f(a)), ((a+b)/2, f((a+b)/2)), (b, f(b))\n",
    "    parabola = np.polyfit([a, (a+b)/2, b], [f(a), f((a+b)/2), f(b)], 2)\n",
    "    parabola = np.poly1d(parabola)\n",
    "    \n",
    "    fig = go.Figure() # Crear figura\n",
    "    simpson = go.Scatter(x = rango_x, y = [parabola(x) for x in rango_x], name=f'Método<br>{round(integral,4)}', line=dict(color='red', width=2), fill = 'tozeroy')\n",
    "    fig.add_trace(go.Scatter(x = rango_x, y = funcion, name=f'f(x) = {f_}', line=dict(color='blue', width=2))) # Graficar f(x)\n",
    "    fig.add_trace(go.Scatter(x = rango_x, y = funcion, name=f'Analítico<br>{round(sp.integrate(f_, (x, a, b)), 4)}', line=dict(color='blue', width=2), fill = 'tozeroy')) # Graficar f(x)\n",
    "    fig.add_trace(simpson) # Graficar metodo\n",
    "    # graficar solo los 3 puntos que se usaron para calcular la parabola\n",
    "    fig.add_trace(go.Scatter(x = [a, (a+b)/2, b], y = [f(a), f((a+b)/2), f(b)], mode='markers', name='Puntos parabola', marker=dict(color='red', size=10)))\n",
    "    fig.update_layout(title=titulo, title_x=0.5, xaxis_title=eje_x, yaxis_title=eje_y) # ¡¡¡NO MODIFICAR!!!\n",
    "    fig.show() # ¡¡¡NO MODIFICAR!!!\n",
    "    "
   ]
  },
  {
   "cell_type": "code",
   "execution_count": null,
   "metadata": {},
   "outputs": [],
   "source": [
    "# Celda usuario\n",
    "f = ut.leerFuncion() # Leer la función\n",
    "interact(simpson3_8, \n",
    "        f_=fixed(f), \n",
    "        a=widgets.FloatText(value=0,description='a',disabled=False),\n",
    "        b=widgets.FloatText(value=1,description='b',disabled=False)\n",
    "        )"
   ]
  }
 ],
 "metadata": {
  "kernelspec": {
   "display_name": ".venv",
   "language": "python",
   "name": "python3"
  },
  "language_info": {
   "codemirror_mode": {
    "name": "ipython",
    "version": 3
   },
   "file_extension": ".py",
   "mimetype": "text/x-python",
   "name": "python",
   "nbconvert_exporter": "python",
   "pygments_lexer": "ipython3",
   "version": "3.9.15"
  }
 },
 "nbformat": 4,
 "nbformat_minor": 2
}
