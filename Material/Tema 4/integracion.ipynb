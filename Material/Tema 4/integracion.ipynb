{
 "cells": [
  {
   "cell_type": "markdown",
   "metadata": {},
   "source": [
    "# Integración numérica"
   ]
  },
  {
   "cell_type": "markdown",
   "metadata": {},
   "source": [
    "### Descripción"
   ]
  },
  {
   "cell_type": "markdown",
   "metadata": {},
   "source": [
    "En el ámbito de la ingeniería es común tener que resolver la integral de una función en un intervalo para poder solucionar algún problema. Existen algunos casos donde $f(x)$ es complicado de integrar o imposible. Para poder integrar estas funciones numéricamente existen dos grupos de métodos Newton-Cotes y cuadratura Gaussiana. En este cuaderno se presentan los métodos de Newton-Coles."
   ]
  },
  {
   "cell_type": "markdown",
   "metadata": {},
   "source": [
    "### Explicación de los métodos"
   ]
  },
  {
   "cell_type": "markdown",
   "metadata": {},
   "source": [
    "Los métodos de Newton-Coles utilizan un polinomio de interpolación para aproximar la función que se desea integrar. "
   ]
  },
  {
   "cell_type": "markdown",
   "metadata": {},
   "source": [
    "#### Trapecio\n",
    "Utiliza un polinomio de grado 1 para aproximar la función, la fórmula es:\n",
    "$$Int=h\\left[f(a)+f(b)\\right]$$\n",
    "> Donde $h=\\frac{b-a}{2}$<br>"
   ]
  },
  {
   "cell_type": "markdown",
   "metadata": {},
   "source": [
    "#### Simpson $1/3$ \n",
    "Utiliza un polinomio de grado 2 para aproximar la función, la fórmula es:\n",
    "$$Int=\\frac{h}{3}\\left[f(a)+4f(\\frac{a+b}{2})+f(b)\\right]$$\n",
    "> Donde $h=\\frac{b-a}{2}$"
   ]
  },
  {
   "cell_type": "markdown",
   "metadata": {},
   "source": [
    "#### Simpson $3/8$ \n",
    "Utiliza un polinomio de grado 3 para aproximar la función, la fórmula es:\n",
    "$$Int=\\frac{3}{8}h\\left[f(a)+3f\\left(\\frac{2a+b}{3}\\right)+3f\\left(\\frac{a+2b}{3}\\right)+f(b)\\right]$$\n",
    "> Donde $h=\\frac{b-a}{3}$"
   ]
  },
  {
   "cell_type": "markdown",
   "metadata": {},
   "source": [
    "### Desventajas, ventajas y restricciones"
   ]
  },
  {
   "cell_type": "markdown",
   "metadata": {},
   "source": [
    "#### Desventajas\n",
    "* Existen casos en los que por los límites de integración no se puede obtener un resultado correcto y no se puede hacer nada para corregir esto.\n",
    "* En algunas funciones no se adapta correctamente el método y no se obtiene un resultado correcto."
   ]
  },
  {
   "cell_type": "markdown",
   "metadata": {},
   "source": [
    "#### Ventajas \n",
    "* Permite integrar con un error mínimo y con gran facilidad cualquier función."
   ]
  },
  {
   "cell_type": "markdown",
   "metadata": {},
   "source": [
    "#### Restricciones\n",
    "* La función que se va a integrar tiene que ser continua en el intervalo $[a, b]$"
   ]
  },
  {
   "cell_type": "markdown",
   "metadata": {},
   "source": [
    "### Ejemplos"
   ]
  },
  {
   "cell_type": "markdown",
   "metadata": {},
   "source": [
    "* Obtén la integral de $f(x)=5xsin(x)$ en el intervalo $[-2, 5]$ comprueba que el resultado es incorrecto.\n",
    "* Obtén la integral de $f(x)=x^4-3x^2-3$ en el intervalo $[0, 10]$ compara ambos métodos de Simpson.\n",
    "* Obtén la integral de $f(x)=400x^5-900x^4+675x^3-200x^2+25x+0.2$ en el intervalo $[0, 0.8]$ compara los resultados al aplicar los métodos de Simpson y el trapecio."
   ]
  },
  {
   "cell_type": "markdown",
   "metadata": {},
   "source": [
    "### Código"
   ]
  },
  {
   "cell_type": "markdown",
   "metadata": {},
   "source": [
    "A continuación se muestra el código para implementar los métodos de trapecio, Simpson 1/3 y Simpson 3/8. "
   ]
  },
  {
   "cell_type": "markdown",
   "metadata": {},
   "source": [
    "Si no tienes instaladas las bibliotecas necesarias, ejecuta la celda 'Instalar bibliotecas'. Si estas trabajando en el entorno se jupyterhub que ya esta configurado, no es necesario realizar este paso."
   ]
  },
  {
   "cell_type": "code",
   "execution_count": null,
   "metadata": {},
   "outputs": [],
   "source": [
    "# Instalar bibliotecas\n",
    "!pip install metodos_numericos_dcb_fi -U -q"
   ]
  },
  {
   "cell_type": "markdown",
   "metadata": {},
   "source": [
    "Para importar las bibliotecas necesarias, ejecuta la celda 'Importar las bibliotecas'."
   ]
  },
  {
   "cell_type": "code",
   "execution_count": null,
   "metadata": {},
   "outputs": [],
   "source": [
    "import metodos_numericos_dcb_fi.utilidades as ut\n",
    "from ipywidgets import interact, fixed, FloatText"
   ]
  },
  {
   "cell_type": "markdown",
   "metadata": {},
   "source": [
    "Si al ejecutar la celda anterior aparece un error del tipo 'Not module named ...', 'No se ha podido resolver la importacion ...' o cualquier otro relacionado a las bibliotecas necesarias, ejecuta la celda 'Solucion de error de bibliotecas'. Remplaza <biblioteca> por el nombre de la biblioteca que aparece en el error. Reinicia el kernel y ejecuta de nuevo la celda 'Importar las bibliotecas'. Si no aparece ningun error, continua con la ejecución de las celdas posteriores."
   ]
  },
  {
   "cell_type": "code",
   "execution_count": null,
   "metadata": {},
   "outputs": [],
   "source": [
    "# Solicion de error de bibliotecas\n",
    "!pip install <biblioteca> -U -q"
   ]
  },
  {
   "cell_type": "markdown",
   "metadata": {},
   "source": [
    "### Método del trapecio"
   ]
  },
  {
   "cell_type": "markdown",
   "metadata": {},
   "source": [
    "En esta celda se codifica el método de *trapecio*. Ejecuta la celda para que el método esté disponible en las celdas posteriores."
   ]
  },
  {
   "cell_type": "code",
   "execution_count": null,
   "metadata": {},
   "outputs": [],
   "source": [
    "# Codificando el método\n",
    "def trapecio(f_, a, b, mostrar=True):\n",
    "    h = (b-a)/2 # Calcular h\n",
    "    f = f_.f # Obtener la funcion evaluable\n",
    "    integral = h*((f(a)+f(b))) # Aplicar el metodo\n",
    "\n",
    "    # Graficar\n",
    "    return ut.graficarTrapecio(f_, a, b, integral, mostrar)"
   ]
  },
  {
   "cell_type": "markdown",
   "metadata": {},
   "source": [
    "Ejecuta la siguiente celda cada que quieras ingresar una nueva función y volver a ejecutar el método. Si quieres variar el limite inferior o superior lo puedes hacer sin tener que volver a ingresar el polinomio. Puedes interactuar con la gráfica para ver los valores del polinomio y como se aproxima a la solucion el método. Tienes la opcion de moverte en la grafica, hacer zoom, guardar la imagen, entre otras acciones."
   ]
  },
  {
   "cell_type": "code",
   "execution_count": null,
   "metadata": {},
   "outputs": [],
   "source": [
    "# Celda usuario\n",
    "f = ut.leerFuncion() # Leer la función\n",
    "interact(trapecio, \n",
    "        f_=fixed(f), \n",
    "        a=FloatText(value=0,description='a',disabled=False),\n",
    "        b=FloatText(value=1,description='b',disabled=False)\n",
    "        )"
   ]
  },
  {
   "cell_type": "markdown",
   "metadata": {},
   "source": [
    "### Método de Simpson 1/3"
   ]
  },
  {
   "cell_type": "markdown",
   "metadata": {},
   "source": [
    "En esta celda se codifica el método de *Simpson 1/3*. Ejecuta la celda para que el método esté disponible en las celdas posteriores."
   ]
  },
  {
   "cell_type": "code",
   "execution_count": null,
   "metadata": {},
   "outputs": [],
   "source": [
    "# Codificando el método\n",
    "def simpson1_3(f_, a, b, mostrar=True):\n",
    "    h = (b-a)/2 # Calcular h\n",
    "    f = f_.f # Obtener la funcion evaluable\n",
    "    integral = h*(f(a)+4*f((a+b)/2)+f(b))/3 # Aplicar el metodo\n",
    "\n",
    "    # Graficar\n",
    "    return ut.graficarSimpson1_3(f_, a, b, integral, mostrar)"
   ]
  },
  {
   "cell_type": "markdown",
   "metadata": {},
   "source": [
    "Ejecuta la siguiente celda cada que quieras ingresar una nueva función y volver a ejecutar el método. Si quieres variar el limite inferior o superior lo puedes hacer sin tener que volver a ingresar el polinomio. Puedes interactuar con la gráfica para ver los valores del polinomio y como se aproxima a la solucion el método. Tienes la opcion de moverte en la grafica, hacer zoom, guardar la imagen, entre otras acciones."
   ]
  },
  {
   "cell_type": "code",
   "execution_count": null,
   "metadata": {},
   "outputs": [],
   "source": [
    "# Celda usuario\n",
    "f = ut.leerFuncion() # Leer la función\n",
    "interact(simpson1_3, \n",
    "        f_=fixed(f), \n",
    "        a=FloatText(value=0,description='a',disabled=False),\n",
    "        b=FloatText(value=1,description='b',disabled=False)\n",
    "        )"
   ]
  },
  {
   "cell_type": "markdown",
   "metadata": {},
   "source": [
    "### Método de Simpson 3/8"
   ]
  },
  {
   "cell_type": "markdown",
   "metadata": {},
   "source": [
    "En esta celda se codifica el método de *Simpson 3/8*. Ejecuta la celda para que el método esté disponible en las celdas posteriores."
   ]
  },
  {
   "cell_type": "code",
   "execution_count": null,
   "metadata": {},
   "outputs": [],
   "source": [
    "# Codificando el método\n",
    "def simpson3_8(f_, a, b, mostrar=True):\n",
    "    h = (b-a)/3 # Calcular h\n",
    "    f = f_.f # Obtener la funcion evaluable\n",
    "    integral = 3*h*(f(a)+3*f((2*a+b)/3)+3*f((a+2*b)/3)+f(b))/8 # Aplicar el metodo\n",
    "    return ut.graficarSimpson3_8(f_, a, b, integral, mostrar) # Graficar\n",
    "    "
   ]
  },
  {
   "cell_type": "markdown",
   "metadata": {},
   "source": [
    "Ejecuta la siguiente celda cada que quieras ingresar una nueva función y volver a ejecutar el método. Si quieres variar el limite inferior o superior lo puedes hacer sin tener que volver a ingresar el polinomio. Puedes interactuar con la gráfica para ver los valores del polinomio y como se aproxima a la solucion el método. Tienes la opcion de moverte en la grafica, hacer zoom, guardar la imagen, entre otras acciones."
   ]
  },
  {
   "cell_type": "code",
   "execution_count": null,
   "metadata": {},
   "outputs": [],
   "source": [
    "# Celda usuario\n",
    "f = ut.leerFuncion() # Leer la función\n",
    "interact(simpson3_8, \n",
    "        f_=fixed(f), \n",
    "        a=FloatText(value=0,description='a',disabled=False),\n",
    "        b=FloatText(value=1,description='b',disabled=False)\n",
    "        )"
   ]
  },
  {
   "cell_type": "markdown",
   "metadata": {},
   "source": [
    "### Comparación de los métodos"
   ]
  },
  {
   "cell_type": "markdown",
   "metadata": {},
   "source": [
    "En esta celda se comparan los resultados obtenidos con los métodos de Simpson 1/3, Simpson 3/8 y trapecio. Para que funcione debes haber ejecutado las 3 celdas donde se codifican los métodos."
   ]
  },
  {
   "cell_type": "code",
   "execution_count": null,
   "metadata": {},
   "outputs": [],
   "source": [
    "# Codificando el método\n",
    "def compararMetodos(f_, a, b):\n",
    "    gTrapecio = trapecio(f_, a, b, False)\n",
    "    gSimpson1_3 = simpson1_3(f_, a, b, False)\n",
    "    gSimpson3_8 = simpson3_8(f_, a, b, False)\n",
    "    ut.compararIntegracion(f_, a, b, gTrapecio, gSimpson1_3, gSimpson3_8) # Graficar"
   ]
  },
  {
   "cell_type": "markdown",
   "metadata": {},
   "source": [
    "Ejecuta la siguiente celda cada que quieras ingresar una nueva función y volver a ejecutar el método. Si quieres variar el limite inferior o superior lo puedes hacer sin tener que volver a ingresar el polinomio. Puedes interactuar con la gráfica para ver los valores del polinomio y como se aproxima a la solucion el método. Tienes la opcion de moverte en la grafica, hacer zoom, guardar la imagen, entre otras acciones."
   ]
  },
  {
   "cell_type": "code",
   "execution_count": null,
   "metadata": {},
   "outputs": [],
   "source": [
    "# Celda usuario\n",
    "f = ut.leerFuncion() # Leer la función\n",
    "interact(compararMetodos, \n",
    "        f_=fixed(f), \n",
    "        a=FloatText(value=0,description='a',disabled=False),\n",
    "        b=FloatText(value=1,description='b',disabled=False)\n",
    "        )"
   ]
  },
  {
   "cell_type": "markdown",
   "metadata": {},
   "source": [
    "### Videos de apoyo"
   ]
  },
  {
   "cell_type": "markdown",
   "metadata": {},
   "source": [
    "Ejecuta la siguiente celda para ver los videos recomendados."
   ]
  },
  {
   "cell_type": "code",
   "execution_count": null,
   "metadata": {},
   "outputs": [],
   "source": [
    "from IPython.display import YouTubeVideo\n",
    "ytv = YouTubeVideo('rREhW5wjkUI')\n",
    "ytv2 = YouTubeVideo('4pCS8pLgqwI')\n",
    "display(ytv)\n",
    "display(ytv2)"
   ]
  },
  {
   "cell_type": "markdown",
   "metadata": {},
   "source": [
    "### Referencias"
   ]
  },
  {
   "cell_type": "markdown",
   "metadata": {},
   "source": [
    "[1] Chapra, S. C., & Canale, R. P. (2011). Métodos numéricos para ingenieros (6.a ed.) [Electrónico]. [enlace](https://eds.s.ebscohost.com/eds/detail/detail?vid=2&sid=5ad28e1c-ae1c-4a2c-99e4-bd280e8b1618%40redis&bdata=Jmxhbmc9ZXMmc2l0ZT1lZHMtbGl2ZQ%3d%3d#AN=lib.MX001001698818&db=cat02025a)\n",
    "\n",
    "[2] Carnahan, B., Luther, H. A., & Wilkes, J. O. (1990). Applied Numerical methods. Krieger Publishing Company. \n",
    "[Ubicación Facultad de Ingeniería, UNAM](https://eds.s.ebscohost.com/eds/detail/detail?vid=2&sid=7bf807f7-00a8-433e-ab55-6e0dbb10d8fd%40redis&bdata=Jmxhbmc9ZXMmc2l0ZT1lZHMtbGl2ZQ%3d%3d#AN=lib.MX001000592290&db=cat02025a)"
   ]
  }
 ],
 "metadata": {
  "kernelspec": {
   "display_name": ".venv",
   "language": "python",
   "name": "python3"
  },
  "language_info": {
   "codemirror_mode": {
    "name": "ipython",
    "version": 3
   },
   "file_extension": ".py",
   "mimetype": "text/x-python",
   "name": "python",
   "nbconvert_exporter": "python",
   "pygments_lexer": "ipython3",
   "version": "3.10.5"
  }
 },
 "nbformat": 4,
 "nbformat_minor": 2
}
