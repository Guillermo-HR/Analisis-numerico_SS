{
 "cells": [
  {
   "cell_type": "markdown",
   "metadata": {},
   "source": [
    "# Descomposición LU"
   ]
  },
  {
   "cell_type": "markdown",
   "metadata": {},
   "source": [
    "### Descripción"
   ]
  },
  {
   "cell_type": "markdown",
   "metadata": {},
   "source": [
    "Este método utiliza la forma matricial de los sistemas de ecuaciones para poder encontrar el vector solución.\n",
    "$$\n",
    "\\begin{align}\n",
    "x + y - 3z&= 10 \\nonumber\\\\\n",
    "-5x - y + 4z &= 0 \\nonumber\\\\\n",
    "5y - z &=-3\n",
    "\\end{align}\n",
    "$$\n",
    "Este sistema se transforma a:\n",
    "$$[A] {X} - {B} = 0$$\n",
    "El objetivo del método es encontrar los coeficientes de la matriz triangular superior e inferior, de tal forma que:\n",
    "$$([L] [U]) - {B} = 0$$\n",
    "Posterior a esto se calcula el vector $d$ con sustitución hacia adelante y finalmente el vector solución $x$ con sustitución hacia atrás.\n",
    "> Matriz inferior: matriz que todos sus elementos a la derecha de la diagonal principal son cero.<br>\n",
    "> Matriz superior: matriz que todos sus elementos a la izquierda de la diagonal principal son cero. <br>"
   ]
  },
  {
   "cell_type": "markdown",
   "metadata": {},
   "source": [
    "### Explicación del método"
   ]
  },
  {
   "cell_type": "markdown",
   "metadata": {},
   "source": [
    "Existen 2 versiones del método: *Doolittle* y *Crout*"
   ]
  },
  {
   "cell_type": "markdown",
   "metadata": {},
   "source": [
    "#### Doolittle"
   ]
  },
  {
   "cell_type": "markdown",
   "metadata": {},
   "source": [
    "En esta versión la matriz $L$ tiene es triangular inferior con 1 en su diagonal principal y $U$ es triangular superior. Las matrices tienen esta forma:\n",
    "$$ \\begin{equation} L =\n",
    "\\begin{pmatrix}\n",
    "1 & 0 & \\cdots & 0\\\\\n",
    "l_{21} & 1 & \\cdots & 0\\\\\n",
    "\\vdots & \\vdots & \\ddots & \\vdots\\\\\n",
    "l_{n1} & l_{n2} & \\cdots & 1\n",
    "\\end{pmatrix}\n",
    "\\hspace{0.5cm}U =\n",
    "\\begin{pmatrix}\n",
    "u_{11} & u_{21} & \\cdots & u_{1n}\\\\\n",
    "0 & u_{22} & \\cdots & u_{2n}\\\\\n",
    "\\vdots & \\vdots & \\ddots & \\vdots\\\\\n",
    "0 & 0 & \\cdots & u_{nn}\n",
    "\\end{pmatrix}\n",
    "\\end{equation}$$\n",
    "Las ecuaciones de recurrencia para calcular estas matrices son las siguientes:\n",
    "$$u_{1j} = a_{1j}\\hspace{1cm}\\text{Para } j = 1, 2, 3, \\cdots, n$$\n",
    "$$l_{i1} = \\frac{a_{i1}}{u_{11}}\\hspace{1cm}\\text{Para } i = 2, 3, \\cdots, n$$\n",
    "$$u_{ij} = a_{ij} - \\sum_{k = 1}^{i - 1}l_{ik}u_{kj}\\hspace{1cm}\\text{Para } i = 2, 3, \\cdots, n\\\\\\hspace{5.3cm}j = i, i + 1 \\cdots, n$$\n",
    "$$l_{ij} = \\frac{a_{ij} - \\sum_{k = 1}^{j - 1}l_{ik}u_{kj}}{u_{jj}}\\hspace{1cm}\\text{Para } j=2, 3, \\cdots, n-1\\\\\\hspace{5.8cm}i=j+1, j+2, \\cdots, n$$\n",
    "Para calcular el vector $d$ se utiliza sustitución hacia adelante:\n",
    "$$d_1 = b_1$$\n",
    "$$d_i = b_i - \\sum_{k = 1}^{i - 1}l_{ik}d_k\\hspace{1cm}\\text{Para } i = 2, 3, \\cdots, n$$\n",
    "Para calcular el vector solución $x$ se utiliza sustitución hacia atrás:\n",
    "$$x_n = \\frac{d_n}{u_{nn}}$$\n",
    "$$x_i = \\frac{d_i - \\sum_{k = i + 1}^{n}u_{ik}x_k}{u_{ii}}\\hspace{1cm}\\text{Para } i = n - 1, n - 2, \\cdots, 1$$\n"
   ]
  },
  {
   "cell_type": "markdown",
   "metadata": {},
   "source": [
    "#### Crout"
   ]
  },
  {
   "cell_type": "markdown",
   "metadata": {},
   "source": [
    "En esta versión la matriz $L$ tiene es triangular inferior y $U$ es triangular superior con 1 en su diagonal principal. Las matrices tienen esta forma:\n",
    "$$ \\begin{equation} L =\n",
    "\\begin{pmatrix}\n",
    "l_{11} & 0 & \\cdots & 0\\\\\n",
    "l_{21} & l_{22} & \\cdots & 0\\\\\n",
    "\\vdots & \\vdots & \\ddots & \\vdots\\\\\n",
    "l_{n1} & l_{n2} & \\cdots & l_{nn}\n",
    "\\end{pmatrix}\n",
    "\\hspace{0.5cm}U =\n",
    "\\begin{pmatrix}\n",
    "1 & u_{21} & \\cdots & u_{1n}\\\\\n",
    "0 & 1 & \\cdots & u_{2n}\\\\\n",
    "\\vdots & \\vdots & \\ddots & \\vdots\\\\\n",
    "0 & 0 & \\cdots & 1\n",
    "\\end{pmatrix}\n",
    "\\end{equation}$$\n",
    "Las ecuaciones de recurrencia para calcular estas matrices son las siguientes:\n",
    "$$l_{i1} = a_{i1}\\hspace{1cm}\\text{Para } i = 1, 2, 3, \\cdots, n$$\n",
    "$$u_{1j} = \\frac{a_{1j}}{l_{11}}\\hspace{1cm}\\text{Para } j = 2, 3, \\cdots, n$$\n",
    "$$l_{ij} = a_{ij} - \\sum_{k = 1}^{j - 1}l_{ik}u_{kj}\\hspace{1cm}\\text{Para } j = 2, 3, \\cdots, n\\\\\\hspace{5.2cm}i = j, j + 1 \\cdots, n$$\n",
    "$$u_{ij} = \\frac{a_{ij} - \\sum_{k = 1}^{i - 1}l_{ik}u_{kj}}{l_{ii}}\\hspace{1cm}\\text{Para } i = 2, 3, \\cdots, n-1\\\\\\hspace{5.8cm}j=i+1, i+2, \\cdots, n$$\n",
    "Para calcular el vector $d$ se utiliza sustitución hacia adelante:\n",
    "$$d_1 = b_1$$\n",
    "$$d_i = \\frac{b_i-\\sum_{k=1}^{i-1}l_{ik}d_k}{l_{ii}}\\hspace{1cm}\\text{Para } i = 2, 3, \\cdots, n$$\n",
    "Para calcular el vector solución $x$ se utiliza sustitución hacia atrás:\n",
    "$$x_n = d_n$$\n",
    "$$x_i = d_i - \\sum_{k = i + 1}^{n}u_{ik}x_k\\hspace{1cm}\\text{Para } i = n - 1, n - 2, \\cdots, 1$$"
   ]
  },
  {
   "cell_type": "markdown",
   "metadata": {},
   "source": [
    "### Desventajas, ventajas y restricciones"
   ]
  },
  {
   "cell_type": "markdown",
   "metadata": {},
   "source": [
    "#### Desventajas\n",
    "* El método puede no converger ya que con algunas combinaciones se llega a división entre cero.\n",
    "#### Ventajas \n",
    "* El resultado es exacto, el único porcentaje de error que se puede tener es por el redondeo.\n",
    "* Con estas descomposiciones se puede obtener la matriz inversa.\n",
    "#### Restricciones\n",
    "* Para asegurar la convergencia la matriz $A$ debe ser diagonalmente dominante. $|a_{ii}| > \\sum_{j = 1, j \\neq i}^{n}|a_{ij}|$ para $i = 1, 2, \\cdots, n$"
   ]
  },
  {
   "cell_type": "markdown",
   "metadata": {},
   "source": [
    "### Aplicación"
   ]
  },
  {
   "cell_type": "markdown",
   "metadata": {},
   "source": [
    "En la ingeniería es común encontrarnos con sistemas de ecuaciones que describen algún sistema donde el número de incógnitas es tan grande que resulta impráctico resolverlo manualmente con métodos como Gauss o Cramer."
   ]
  },
  {
   "cell_type": "markdown",
   "metadata": {},
   "source": [
    "### Ejemplos"
   ]
  },
  {
   "cell_type": "markdown",
   "metadata": {},
   "source": [
    "* Obten los valores de $x$ que satisfacen el siguiente sistema de ecuaciones:\n",
    "$$\\begin{align}\n",
    "x_1 + 2x_2 + 3x_3 &= 14 \\nonumber\\\\\n",
    "-0.4x_1 - x_2 + 45x_3 &= 70 \\nonumber\\\\\n",
    "-3x_1 + 0.2x_2 + x_3 &= 10\n",
    "\\end{align}$$"
   ]
  },
  {
   "cell_type": "markdown",
   "metadata": {},
   "source": [
    "### Código"
   ]
  },
  {
   "cell_type": "markdown",
   "metadata": {},
   "source": [
    "A continuación se muestra el código para implementar el método de descomposición LU versión Doolittle y Crout."
   ]
  },
  {
   "cell_type": "markdown",
   "metadata": {},
   "source": [
    "Si no tienes instaladas las bibliotecas necesarias, ejecuta la celda 'Instalar bibliotecas'. Si estas trabajando en el entorno se jupyterhub que ya esta configurado, no es necesario realizar este paso."
   ]
  },
  {
   "cell_type": "code",
   "execution_count": null,
   "metadata": {},
   "outputs": [],
   "source": [
    "# Instalar bibliotecas\n",
    "!pip install metodos_numericos_dcb_fi -U -q"
   ]
  },
  {
   "cell_type": "markdown",
   "metadata": {},
   "source": [
    "Para importar las bibliotecas necesarias, ejecuta la celda 'Importar las bibliotecas'."
   ]
  },
  {
   "cell_type": "code",
   "execution_count": null,
   "metadata": {},
   "outputs": [],
   "source": [
    "# Importar las librerias\n",
    "import numpy as np\n",
    "import metodos_numericos_dcb_fi.utilidades as ut"
   ]
  },
  {
   "cell_type": "markdown",
   "metadata": {},
   "source": [
    "Si al ejecutar la celda anterior aparece un error del tipo 'Not module named ...', 'No se ha podido resolver la importacion ...' o cualquier otro relacionado a las bibliotecas necesarias, ejecuta la celda 'Solucion de error de bibliotecas'. Remplaza <biblioteca> por el nombre de la biblioteca que aparece en el error. Reinicia el kernel y ejecuta de nuevo la celda 'Importar las bibliotecas'. Si no aparece ningun error, continua con la ejecución de las celdas posteriores."
   ]
  },
  {
   "cell_type": "code",
   "execution_count": null,
   "metadata": {},
   "outputs": [],
   "source": [
    "# Solicion de error de bibliotecas\n",
    "!pip install <biblioteca> -U -q"
   ]
  },
  {
   "cell_type": "markdown",
   "metadata": {},
   "source": [
    "En esta celda se codifica el método de *LU Dolittle y Crout*. Ejecuta la celda para que el método esté disponible en las celdas posteriores."
   ]
  },
  {
   "cell_type": "code",
   "execution_count": null,
   "metadata": {},
   "outputs": [],
   "source": [
    "# Codificando el método\n",
    "def LU_Dolittle(matriz, vector):\n",
    "    n = len(matriz)\n",
    "    # ↓ Generar las matrices L y U ↓\n",
    "    L = np.identity(n) # Matriz identidad de tamaño nxn donde se almacenará la matriz L\n",
    "    U = np.zeros((n,n)) # Matriz inicializada con 0 de tamaño nxn donde se almacenará la matriz U\n",
    "    for j in range(n): # Primer fila de la matriz U\n",
    "        U[0][j] = matriz[0][j] # i = 0; j = 0, 1, 2, ..., n. Genera la primera fila de la matriz U\n",
    "    for i in range(1, n): # Primer columna de la matriz L\n",
    "        L[i][0] = matriz[i][0] / U[0][0] # i = 1, 2, ..., n; j = 0. Genera la primera columna de la matriz L\n",
    "    for r in range(1, n): # r = 1, 2, ..., n - 1. Va a ser el contador de las filas y columnas\n",
    "        # Generar el r-ésimo renglón de la matriz U\n",
    "        for j in range(r, n):\n",
    "            suma = 0 # Variable auxiliar para almacenar la suma (L[i][k] * U[k][j]) para k = 0, 1, ..., r - 1\n",
    "            for k in range(r):\n",
    "                suma += L[r][k] * U[k][j]\n",
    "            U[r][j] = matriz[r][j] - suma # U[i][j] = A[i][j] - suma (L[i][k] * U[k][j]) para k = 0, 1, ..., r - 1\n",
    "        # Generar el r-ésimo renglón de la matriz L\n",
    "        for i in range(r + 1, n):\n",
    "            suma = 0 # Variable auxiliar para almacenar la suma (L[i][k] * U[k][j]) para k = 0, 1, ..., r - 1\n",
    "            for k in range(r):\n",
    "                suma += L[i][k] * U[k][r]\n",
    "            L[i][r] = (matriz[i][r] - suma) / U[r][r] # L[i][j] = (A[i][j] - suma (L[i][k] * U[k][j])) / U[j][j] para k = 0, 1, ..., r - 1\n",
    "    # ↓ Sustitucion hacia adelante para calcular el vector d ↓\n",
    "    d = np.zeros(n) # Vector inicializado con 0 de tamaño n donde se almacenará el vector d\n",
    "    d[0] = vector[0] # d[0] = b[0]\n",
    "    for r in range(1, n): # r = 1, 2, ..., n - 1\n",
    "        suma = 0 # Variable auxiliar para almacenar la suma (L[i][k] * d[k]) para k = 0, 1, ..., r - 1\n",
    "        for k in range(r):\n",
    "            suma += L[r][k] * d[k]\n",
    "        d[r] = vector[r] - suma # d[r] = b[r] - suma (L[i][k] * d[k]) para k = 0, 1, ..., r - 1\n",
    "    # ↓ Sustitucion hacia atras para calcular el vector solcución ↓\n",
    "    x = np.zeros(n) # Vector inicializado con 0 de tamaño n donde se almacenará el vector solución\n",
    "    x[n - 1] = d[n - 1] / U[n - 1][n - 1] # x[n] = d[n] / U[n][n]\n",
    "    for r in range(n - 2, -1, -1): # r = n - 1, n - 2, ..., 1\n",
    "        suma = 0 # Variable auxiliar para almacenar la suma (U[i][k] * x[k]) para k = r + 1, r + 2, ..., n\n",
    "        for k in range(r + 1, n):\n",
    "            suma += U[r][k] * x[k]\n",
    "        x[r] = (d[r] - suma) / U[r][r] # x[r] = d[r] - suma (U[i][k] * x[k])) / U[r][r] para k = r + 1, r + 2, ..., n\n",
    "    # ↓ Mostrar los resultados ↓\n",
    "    print('Doolittle')\n",
    "    ut.mostrarResultadosLU(L, U, d, x)\n",
    "\n",
    "def LU_Crout(matriz, vector):\n",
    "    n = len(matriz)\n",
    "    # ↓ Generar las matrices L y U ↓\n",
    "    L = np.zeros((n,n)) # Matriz inicializada con 0 de tamaño nxn donde se almacenará la matriz L\n",
    "    U = np.identity(n) # Matriz identidad de tamaño nxn donde se almacenará la matriz U\n",
    "    for i in range(n): # Primer columna de la matriz L\n",
    "        L[i][0] = matriz[i][0] # i = 0, 1, ..., n; j = 0. Genera la primera columna de la matriz L\n",
    "    for j in range(1, n): # Primer fila de la matriz U\n",
    "        U[0][j] = matriz[0][j] / L[0][0] # i = 0; j = 1, 2, ..., n. Genera la primera fila de la matriz U\n",
    "    for r in range(1, n): # r = 1, 2, ..., n - 1. Va a ser el contador de las filas y columnas\n",
    "        # Generar el r-ésimo renglón de la matriz L\n",
    "        for i in range(r, n):\n",
    "            suma = 0 # Variable auxiliar para almacenar la suma (L[i][k] * U[k][j]) para k = 0, 1, ..., r - 1\n",
    "            for k in range(r):\n",
    "                suma += L[i][k] * U[k][r]\n",
    "            L[i][r] = matriz[i][r] - suma # L[i][j] = A[i][j] - suma (L[i][k] * U[k][j]) para k = 0, 1, ..., r - 1\n",
    "        # Generar el r-ésimo renglón de la matriz U\n",
    "        for j in range(r + 1, n):\n",
    "            suma = 0 # Variable auxiliar para almacenar la suma (L[i][k] * U[k][j]) para k = 0, 1, ..., r - 1\n",
    "            for k in range(r):\n",
    "                suma += L[r][k] * U[k][j]\n",
    "            U[r][j] = (matriz[r][j] - suma) / L[r][r] # U[i][j] = (A[i][j] - suma (L[i][k] * U[k][j])) / L[j][j] para k = 0, 1, ..., r - 1\n",
    "    # ↓ Sustitucion hacia adelante para calcular el vector d ↓\n",
    "    d = np.zeros(n) # Vector inicializado con 0 de tamaño n donde se almacenará el vector d\n",
    "    d[0] = vector[0] / L[0][0] # d[0] = b[0] / L[0][0]\n",
    "    for r in range(1, n): # r = 1, 2, ..., n - 1\n",
    "        suma = 0 # Variable auxiliar para almacenar la suma (L[i][k] * d[k]) para k = 0, 1, ..., r - 1\n",
    "        for k in range(r):\n",
    "            suma += L[r][k] * d[k]\n",
    "        d[r] = (vector[r] - suma) / L[r][r] # d[r] = (b[r] - suma (L[i][k] * d[k]) para k = 0, 1, ..., r - 1) / L[r][r]\n",
    "    # ↓ Sustitucion hacia atras para calcular el vector solcución ↓\n",
    "    x = np.zeros(n) # Vector inicializado con 0 de tamaño n donde se almacenará el vector solución\n",
    "    x[n - 1] = d[n - 1] # x[n] = d[n]\n",
    "    for r in range(n - 2, -1, -1): # r = n - 1, n - 2, ..., 1\n",
    "        suma = 0 # Variable auxiliar para almacenar la suma (U[i][k] * x[k]) para k = r + 1, r + 2, ..., n\n",
    "        for k in range(r + 1, n):\n",
    "            suma += U[r][k] * x[k]\n",
    "        x[r] = d[r] - suma # x[r] = d[r] - suma (U[i][k] * x[k])) para k = r + 1, r + 2, ..., n\n",
    "    # ↓ Mostrar los resultados ↓\n",
    "    print('Crout')\n",
    "    ut.mostrarResultadosLU(L, U, d, x)"
   ]
  },
  {
   "cell_type": "markdown",
   "metadata": {},
   "source": [
    "Ejecuta la siguiente celda cada que quieras ingresar una nueva matriz y vector de términos independientes.\n",
    "\n",
    "Nota 1: Al ingresar la matriz y vector se deben seguir las reglas y sintaxis propuestas, de lo contrario se mostrará un mensaje de error. "
   ]
  },
  {
   "cell_type": "code",
   "execution_count": null,
   "metadata": {},
   "outputs": [],
   "source": [
    "# Celda usuario\n",
    "matriz, vector = ut.leerLU() # Leer la matriz y el vector del usuario\n",
    "ut.mostrarMatriz(matriz, 'A') # Mostrar la matriz A\n",
    "ut.mostrarVector(vector, 'b') # Mostrar el vector b\n",
    "\n",
    "LU_Dolittle(matriz, vector) # Aplicar el método con versión Dolittle\n",
    "LU_Crout(matriz, vector) # Aplicar el método con versión Crout"
   ]
  },
  {
   "cell_type": "markdown",
   "metadata": {},
   "source": [
    "### Videos de apoyo"
   ]
  },
  {
   "cell_type": "markdown",
   "metadata": {},
   "source": [
    "Ejecuta la siguiente celda para ver los videos recomendados."
   ]
  },
  {
   "cell_type": "code",
   "execution_count": null,
   "metadata": {},
   "outputs": [],
   "source": [
    "from IPython.display import YouTubeVideo\n",
    "ytv = YouTubeVideo('NCyEpA8bfnY')\n",
    "ytv2 = YouTubeVideo('ePaHHoizw-8')\n",
    "display(ytv)\n",
    "display(ytv2)"
   ]
  },
  {
   "cell_type": "markdown",
   "metadata": {},
   "source": [
    "### Referencias"
   ]
  },
  {
   "cell_type": "markdown",
   "metadata": {},
   "source": [
    "[1] Chapra, S. C., & Canale, R. P. (2011). Métodos numéricos para ingenieros (6.a ed.) [Electrónico]. [enlace](https://eds.s.ebscohost.com/eds/detail/detail?vid=2&sid=5ad28e1c-ae1c-4a2c-99e4-bd280e8b1618%40redis&bdata=Jmxhbmc9ZXMmc2l0ZT1lZHMtbGl2ZQ%3d%3d#AN=lib.MX001001698818&db=cat02025a)\n",
    "\n",
    "[2] Marín Rubio, P. (s. f.). Tema 3. Métodos directos de resolución de sistemas lineales. Material docente. [enlace](https://personal.us.es/pmr/images/pdfs/gm-cni-tema3.pdf)"
   ]
  }
 ],
 "metadata": {
  "kernelspec": {
   "display_name": "servicio_social",
   "language": "python",
   "name": "python3"
  },
  "language_info": {
   "codemirror_mode": {
    "name": "ipython",
    "version": 3
   },
   "file_extension": ".py",
   "mimetype": "text/x-python",
   "name": "python",
   "nbconvert_exporter": "python",
   "pygments_lexer": "ipython3",
   "version": "3.10.5"
  }
 },
 "nbformat": 4,
 "nbformat_minor": 2
}
