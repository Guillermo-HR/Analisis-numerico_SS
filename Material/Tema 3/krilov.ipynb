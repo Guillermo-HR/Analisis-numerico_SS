{
 "cells": [
  {
   "cell_type": "markdown",
   "metadata": {},
   "source": [
    "# Método de Krilov"
   ]
  },
  {
   "cell_type": "markdown",
   "metadata": {},
   "source": [
    "### Descripción"
   ]
  },
  {
   "cell_type": "markdown",
   "metadata": {},
   "source": [
    "Este método se utiliza para encontrar el polinomio característico de una matriz, a partir de este se pueden encontrar los valores característicos y sus vectores característicos. Para implementar este método es necesario aplicar otros que se han visto anteriormente. Descomposición LU en cualquiera de sus versiones para encontrar los coeficientes del polinomio. El método de Krilov se limita a encontrar el polinomio y ecuación característica; para encontrar los valores y vectores característicos se utilizan otros métodos."
   ]
  },
  {
   "cell_type": "markdown",
   "metadata": {},
   "source": [
    "### Explicación del método"
   ]
  },
  {
   "cell_type": "markdown",
   "metadata": {},
   "source": [
    "El polinomio característico de una matriz se obtiene satisfaciendo la siguiente ecuación:\n",
    "$$|A-\\lambda I|=0$$\n",
    "De esta expresión se obtiene la siguiente el polinomio característico de la matriz:\n",
    "$$a_{0}\\lambda^{n}+a_{1}\\lambda^{n-1}+\\cdots+a_{n-1}\\lambda+a_{n}=0$$\n",
    "Por conveniencia del polinomio se busca que $a_0$ sea 1 por lo que todo el polinomio se divide entre ese coeficiente. Para poder obtener los coeficiente $b_{1}, b_{2}, \\cdots, b_{n-1} \\text{ y } b_{n}$ se aplica el *Teorema de Cayley-Hamilton* que establece que al evaluar la matriz $A$ en su ecuación característica el resultado es 0.\n",
    "$$F(A)=A^{n}+b_{1}A^{n-1}+\\cdots+b_{n-1}A+b_{n}I=0$$\n",
    "Para simplificar las operaciones la ecuación se multiplica por un vector $\\=y$ de tamaño $n$ y distinto de $\\=0$.\n",
    "$$F(A)=A^{n}\\=y+b_{1}A^{n-1}\\=y+\\cdots+b_{n-1}A\\=y+b_{n}I\\=y=0$$\n",
    "El vector por defecto del método es:\n",
    "$$\\=y = (1, 0, \\cdots, 0)$$\n",
    "Este sistema de ecuaciones ya se puede resolver por cualquier método.\n",
    "> I es la matriz identidad.\n"
   ]
  },
  {
   "cell_type": "markdown",
   "metadata": {},
   "source": [
    "### Desventajas, ventajas y restricciones"
   ]
  },
  {
   "cell_type": "markdown",
   "metadata": {},
   "source": [
    "#### Desventajas\n",
    "* Para poder aplicar el método es necesario  conocer algunos métodos para la resolución de sistemas de ecuaciones.\n",
    "#### Ventajas \n",
    "* Permite encontrar de forma sencilla el polinomio y ecuación característica, a partir de estas se pueden encontrar los valores y vectores característicos.\n",
    "#### Restricciones\n",
    "* Solo se puede aplicar a matrices no singulares.\n"
   ]
  },
  {
   "cell_type": "markdown",
   "metadata": {},
   "source": [
    "### Aplicación"
   ]
  },
  {
   "cell_type": "markdown",
   "metadata": {},
   "source": [
    "En álgebra lineal conocer los valores y vectores característicos puede ser de gran importancia ya que nos permite realizar algunas operaciones. Otra aplicación muy importante es para resolver sistemas de ecuaciones con el método del eigenvalor."
   ]
  },
  {
   "cell_type": "markdown",
   "metadata": {},
   "source": [
    "### Ejemplos"
   ]
  },
  {
   "cell_type": "markdown",
   "metadata": {},
   "source": [
    "* Obtener el polinomio y valores característicos de la matriz: \n",
    "\\begin{equation}\n",
    "A=\n",
    "\\begin{vmatrix}\n",
    "2 & 5 & 8\\\\\n",
    "6 & 7 & 1\\\\\n",
    "5 & 0 & 3\n",
    "\\end{vmatrix}\n",
    "\\end{equation}\n",
    "Utilizando el vector $\\=y$ por defecto del método.\n",
    "* Obtener el polinomio y valores característicos de la matriz: \n",
    "\\begin{equation}\n",
    "A=\n",
    "\\begin{vmatrix}\n",
    "3 & -1 & 1\\\\\n",
    "-2 & 4 & 1\\\\\n",
    "2 & -1 & 2\n",
    "\\end{vmatrix}\n",
    "\\end{equation}\n",
    "Utilizando el vector \n",
    "\\begin{equation}\n",
    "y=\n",
    "\\begin{vmatrix}\n",
    "1\\\\\n",
    "2\\\\\n",
    "3\n",
    "\\end{vmatrix}\n",
    "\\end{equation}\n"
   ]
  },
  {
   "cell_type": "markdown",
   "metadata": {},
   "source": [
    "### Código"
   ]
  },
  {
   "cell_type": "markdown",
   "metadata": {},
   "source": [
    "A continuación se muestra el código para implementar el método de krilov."
   ]
  },
  {
   "cell_type": "markdown",
   "metadata": {},
   "source": [
    "Si no tienes instaladas las bibliotecas necesarias, ejecuta la celda 'Instalar bibliotecas'. Si estas trabajando en el entorno se jupyterhub que ya esta configurado, no es necesario realizar este paso."
   ]
  },
  {
   "cell_type": "code",
   "execution_count": null,
   "metadata": {},
   "outputs": [],
   "source": [
    "# Instalar bibliotecas\n",
    "!pip install metodos_numericos_dcb_fi -U -q"
   ]
  },
  {
   "cell_type": "markdown",
   "metadata": {},
   "source": [
    "Para importar las bibliotecas necesarias, ejecuta la celda 'Importar las bibliotecas'."
   ]
  },
  {
   "cell_type": "code",
   "execution_count": null,
   "metadata": {},
   "outputs": [],
   "source": [
    "# Importar las biblotecas\n",
    "import numpy as np\n",
    "from scipy.linalg import lu_factor, lu_solve\n",
    "import metodos_numericos_dcb_fi.utilidades as ut"
   ]
  },
  {
   "cell_type": "markdown",
   "metadata": {},
   "source": [
    "Si al ejecutar la celda anterior aparece un error del tipo 'Not module named ...', 'No se ha podido resolver la importacion ...' o cualquier otro relacionado a las bibliotecas necesarias, ejecuta la celda 'Solucion de error de bibliotecas'. Remplaza <biblioteca> por el nombre de la biblioteca que aparece en el error. Reinicia el kernel y ejecuta de nuevo la celda 'Importar las bibliotecas'. Si no aparece ningun error, continua con la ejecución de las celdas posteriores."
   ]
  },
  {
   "cell_type": "code",
   "execution_count": null,
   "metadata": {},
   "outputs": [],
   "source": [
    "# Solicion de error de bibliotecas\n",
    "!pip install <biblioteca> -U -q"
   ]
  },
  {
   "cell_type": "markdown",
   "metadata": {},
   "source": [
    "En esta celda se codifica el método de *krilov*. Ejecuta la celda para que el método esté disponible en las celdas posteriores."
   ]
  },
  {
   "cell_type": "code",
   "execution_count": null,
   "metadata": {},
   "outputs": [],
   "source": [
    "# Codificando el método\n",
    "def Krilov(A, y):\n",
    "    ut.mostrarMatriz(A, 'A') # Se muestra la matriz A\n",
    "    ut.mostrarVector(y, 'y') # Se muestra el vector y\n",
    "    n = len(A) # Tamaño de la matriz\n",
    "    Ay = [] # Arreglo para almacenar los vectores A^n * y\n",
    "    Ay.append(y) # Agregamos el primer vector A^0 * y = y\n",
    "    # ↓ Se calculan los vectores A^i * y para i = 1, 2, ..., n ↓\n",
    "    for i in range(1, n + 1):\n",
    "        Ay.append(np.dot(A, Ay[i-1])) # Se agrega el vector A^i * y para i = 1, 2, ..., n. Con A[-1] se accede al último vector agregado\n",
    "    K_independiente = - Ay.pop() # Se saca el último vector agregado que es A^n * y. Este sera el vector de terminos independientes. Se invierte el signo\n",
    "    # ↓ Se construye la matriz de Krilov ↓\n",
    "    K = np.zeros((n, n)) # Matriz de ceros de tamaño nxn\n",
    "    for i in range(n):\n",
    "        K[:, i] = Ay.pop().flatten() # Se agrega cada vector de Ay como columna de K\n",
    "    ut.mostrarMatriz(K, 'K') # Se muestra la matriz K\n",
    "    ut.mostrarVector(K_independiente, 'b') # Se muestra el vector de terminos independientes\n",
    "    b = lu_solve((lu_factor(K)), K_independiente) # Se resuelve el sistema de ecuaciones utilizando la factorización LU de scipy\n",
    "    b = np.insert(b, 0, 1) # Se agrega el 1 al inicio del vector b\n",
    "    lambdas = np.roots(b) # Se calculan las raices del polinomio caracteristico con la funcion roots de numpy\n",
    "    ut.mostrarPolinomioCaracteristico(b) # Se muestra el polinomio caracteristico\n",
    "    ut.mostrarValoresCaracteristicos(lambdas) # Se muestran las raices\n",
    "    "
   ]
  },
  {
   "cell_type": "markdown",
   "metadata": {},
   "source": [
    "Ejecuta la siguiente celda cada que quieras ingresar una nueva matriz y vector.\n",
    "\n",
    "Nota 1: Al ingresar la matriz y vector se deben seguir las reglas y sintaxis propuestas, de lo contrario se mostrará un mensaje de error. "
   ]
  },
  {
   "cell_type": "code",
   "execution_count": null,
   "metadata": {},
   "outputs": [],
   "source": [
    "# Celda usuario\n",
    "A = ut.leerMatriz()\n",
    "y = ut.leerVectorKrilov(len(A))\n",
    "\n",
    "Krilov(A, y)"
   ]
  },
  {
   "cell_type": "markdown",
   "metadata": {},
   "source": [
    "### Videos de apoyo"
   ]
  },
  {
   "cell_type": "markdown",
   "metadata": {},
   "source": [
    "Ejecuta la siguiente celda para ver los videos recomendados."
   ]
  },
  {
   "cell_type": "code",
   "execution_count": null,
   "metadata": {},
   "outputs": [],
   "source": [
    "from IPython.display import YouTubeVideo\n",
    "ytv = YouTubeVideo('1uJEw2hDxBU')\n",
    "ytv2 = YouTubeVideo('zrxPBAWfO-4')\n",
    "display(ytv)\n",
    "display(ytv2)\n"
   ]
  },
  {
   "cell_type": "markdown",
   "metadata": {},
   "source": [
    "### Referencias"
   ]
  },
  {
   "cell_type": "markdown",
   "metadata": {},
   "source": [
    "[1] Martínez Sandoval, L. I. (s. f.). Álgebra Lineal I: Propiedades del polinomio característico. EL blog de Leo. [enlace](https://blog.nekomath.com/algebra-lineal-i-polinomio-caracteristico/)\n",
    "\n",
    "[2] Cortés Rosas, J. J., Gonzáles Cárdenas, M. E., Pinilla Morán, V. D., Salazar Moreno, A., & Tovar Pérez, V. H. (2019). Valores y vectores característicos. Plataforma educativa para Análisis Numérico. [enlace](https://www.ingenieria.unam.mx/pinilla/PE105117/pdfs/tema3/3-4_valores_vectores_caracteristicos.pdf)"
   ]
  }
 ],
 "metadata": {
  "kernelspec": {
   "display_name": "servicio_social",
   "language": "python",
   "name": "python3"
  },
  "language_info": {
   "codemirror_mode": {
    "name": "ipython",
    "version": 3
   },
   "file_extension": ".py",
   "mimetype": "text/x-python",
   "name": "python",
   "nbconvert_exporter": "python",
   "pygments_lexer": "ipython3",
   "version": "3.10.5"
  }
 },
 "nbformat": 4,
 "nbformat_minor": 2
}
