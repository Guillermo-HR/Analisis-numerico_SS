{
 "cells": [
  {
   "cell_type": "markdown",
   "id": "f5d004cc",
   "metadata": {},
   "source": [
    "# Polinomio de Taylor\n"
   ]
  },
  {
   "cell_type": "markdown",
   "id": "dd0b594b",
   "metadata": {
    "jp-MarkdownHeadingCollapsed": true,
    "tags": []
   },
   "source": [
    "### Brook Taylor"
   ]
  },
  {
   "cell_type": "markdown",
   "id": "4b2d948a",
   "metadata": {},
   "source": [
    "Fue un **matemático** del siglo XVII, nació en Inglaterra el 18 de agosto de 1685 realizó varias aportaciones en diversos campos como las matemáticas y la física. Dentro de las matemáticas trabajó en las bases de lo que sería el *cálculo de diferencias finitas*; otro de sus grandes aportes fue el teorema de Taylor. (Brook Taylor | Calculus, Geometry & Physics, 2023)\n",
    "<br>![Imagen 1\\nBrook Taylor](figurasTexto/B_Taylor.jpeg)<br>\n",
    "Imagen 1<br>Brook Taylor"
   ]
  },
  {
   "cell_type": "markdown",
   "id": "cbb56ede",
   "metadata": {
    "jp-MarkdownHeadingCollapsed": true,
    "tags": []
   },
   "source": [
    "### Teorema"
   ]
  },
  {
   "cell_type": "markdown",
   "id": "0ccfeb2b",
   "metadata": {},
   "source": [
    "Sea $f$ una función continua en el intervalo $[a, b]$ y con $n + 1$ derivadas continuas en el mismo intervalo. La función se puede aproximar con un polinomio de Taylor  de grado $n$.\n"
   ]
  },
  {
   "cell_type": "markdown",
   "id": "4871c781",
   "metadata": {
    "jp-MarkdownHeadingCollapsed": true,
    "tags": []
   },
   "source": [
    "### Explicación"
   ]
  },
  {
   "cell_type": "markdown",
   "id": "71044f82",
   "metadata": {},
   "source": [
    "El *polinomio de Taylor* permite aproximar una función a través de un polinomio de grado $n$ cerca del punto $x_c$. Para deducir la fórmula del polinomio de Taylor es necesario conocer la estructura de un polinomio de grado n:\n",
    "$$P_n(x) = a_0 + a_1 x + a_2 x^2 + … a_n x^n$$\n",
    "Para aproximar una función $f(x)$ con el *polinomio de Taylor* se debe buscar una curva que se adapte lo mejor posible a la función. El primer criterio que se debe de cumplir es que en el punto de centrado $x_c$ el $P_T(c) = f(c)$; existe una cantidad infinita de rectas que pasan por el punto $(c, f(c))$.\n",
    "\n",
    "Para reducir el número de curvas que cumplan el criterio anterior y poder encontrar una que se aproxime de mejor forma a la función debemos de satisfacer el criterio de la pendiente en $c$, esto significa que el polinomio de grado 1 tenga la misma pendiente que la función en el punto de centrado. La fórmula del polinomio de grado 1 que cumple los criterios es:\n",
    "$$P_1(x) = f(c) + f'(c) (x - c)$$\n",
    "\n",
    "Este polinomio ya se aproxima de mejor forma a la función pero el radio para el cual esa aproximación es exacta es corto. Utilizando el mismo razonamiento se busca un polinomio de grado 2 que cumpla los criterios del polinomio de grado 1 y que tenga la misma curvatura. Para conseguir que tengan la misma curvatura la segunda derivada en el punto de centrado debe ser igual. La fórmula del polinomio que cumple es:\n",
    "$$P_2(x) = f(c) + f'(c) (x - c) + \\frac{f''(x)}{2!} (x - c)^2$$\n",
    "\n",
    "Hemos logrado establecer un patrón en el cual al aumentar el grado del polinomio que utilizamos para aproximar la función se reduce el error de la aproximación para puntos más alejados de $c$.\n",
    "\n",
    "Cuando el punto de centrado es $0$ se le conoce como polinomio de MaClaurin."
   ]
  },
  {
   "cell_type": "markdown",
   "id": "03b53650",
   "metadata": {
    "jp-MarkdownHeadingCollapsed": true,
    "tags": []
   },
   "source": [
    "### Fórmula"
   ]
  },
  {
   "cell_type": "markdown",
   "id": "9d7be2e0",
   "metadata": {},
   "source": [
    "La fórmula general del polinomio de Taylor para aproximar una función $f(x)$ en el punto $x_c$ es:\n",
    "$$f(x) \\approx P_{n}(x)=f(c)+\\frac{f'(c)}{1!}(x-c)+\\frac{f''(c)}{2!}(x-c)^{2}+...+\\frac{f^{(j)}(c)}{j!}(x-c)^{j}+...+\\frac{f^{(n)}(c)}{n!}(x-c)^{n}$$\n",
    "Formula condensada:\n",
    "$$f(x) \\approx P_n(x) = \\sum_{j=0}^{n} \\frac{f^{(j)}(c)}{j!} (x - c)^j$$\n",
    "$$\\text{Para }n=1, 2, 3, \\dotsb$$"
   ]
  },
  {
   "cell_type": "markdown",
   "id": "1d0c1f17",
   "metadata": {},
   "source": [
    "### Ejemplos"
   ]
  },
  {
   "cell_type": "markdown",
   "id": "6e7f3737",
   "metadata": {},
   "source": [
    "* Aproxima $f(x) = sin(x)$ centrada en $c = 2$ con un polinomio de grado 3 y 7. Observa como el rango para el cual la aproximación es buena es mayor en el polinomio de grado 7.\n",
    "* Aproxima $f(x) = x^3$ con un polinomio de Maclaurin de grado 2, 3, 4 y 10. Observa que desde el polinomio de grado 3 la aproximación es exacta. Esto es un ejemplo que muestra que no siempre se necesita un polinomio de grado alto para aproximar una función.\n",
    "* Aproxima $f(x) = ln(x)$ con un polinomio de grado 14 centrado en $c = 5.1$ y $c = 10$. Observa que el rango para el cual la aproximacion es buena es mayor en el punto de centrado $c = 10$."
   ]
  },
  {
   "cell_type": "markdown",
   "id": "d0356c37",
   "metadata": {
    "tags": []
   },
   "source": [
    "### Código"
   ]
  },
  {
   "cell_type": "markdown",
   "id": "d71ac672",
   "metadata": {},
   "source": [
    "A continuación se presenta el código para calcular y graficar el *polinomio de Taylor*."
   ]
  },
  {
   "cell_type": "markdown",
   "id": "6ad1c074-5370-4a4f-978f-240312b38d2a",
   "metadata": {},
   "source": [
    "Si no tienes instaladas las bibliotecas necesarias, ejecuta la celda 'Instalar bibliotecas'. Si estas trabajando en el entorno se jupyterhub que ya esta configurado, no es necesario realizar este paso."
   ]
  },
  {
   "cell_type": "code",
   "execution_count": 4,
   "id": "a7e0884e",
   "metadata": {},
   "outputs": [],
   "source": [
    "# Instalar bibliotecas\n",
    "!pip install metodos_numericos_dcb_fi -U -q"
   ]
  },
  {
   "cell_type": "markdown",
   "id": "4b2f28a3",
   "metadata": {},
   "source": [
    "Para importar las bibliotecas necesarias, ejecuta la celda 'Importar las bibliotecas'."
   ]
  },
  {
   "cell_type": "code",
   "execution_count": 5,
   "id": "98431b31",
   "metadata": {},
   "outputs": [],
   "source": [
    "# Importar las bibliotecas\n",
    "import metodos_numericos_dcb_fi.utilidades as ut\n",
    "from ipywidgets import interact, fixed, FloatText, BoundedIntText\n",
    "import sympy as sp\n",
    "from sympy.abc import x, c\n",
    "import numpy as np\n",
    "from math import factorial"
   ]
  },
  {
   "cell_type": "markdown",
   "id": "55c37c1d",
   "metadata": {},
   "source": [
    "Si al ejecutar la celda anterior aparece un error del tipo 'Not module named ...', 'No se ha podido resolver la importacion ...' o cualquier otro relacionado a las bibliotecas necesarias, ejecuta la celda 'Solucion de error de bibliotecas'. Remplaza <biblioteca> por el nombre de la biblioteca que aparece en el error. Reinicia el kernel y ejecuta de nuevo la celda 'Importar las bibliotecas'. Si no aparece ningun error, continua con la ejecución de las celdas posteriores."
   ]
  },
  {
   "cell_type": "code",
   "execution_count": null,
   "id": "53aac655",
   "metadata": {},
   "outputs": [],
   "source": [
    "# Solicion de error de bibliotecas\n",
    "!pip install <biblioteca> -U -q"
   ]
  },
  {
   "cell_type": "markdown",
   "id": "6967e88d",
   "metadata": {},
   "source": [
    "En esta celda se codifica el polinomio de Taylor. Se definen 2 funciones, una para calcular el polinomio de Taylor y otra para graficar la función y el polinomio de Taylor. Ejectua la celda para poder utilizar las funciones en las celdas posteriores."
   ]
  },
  {
   "cell_type": "code",
   "execution_count": 2,
   "id": "f0481a09",
   "metadata": {
    "tags": []
   },
   "outputs": [],
   "source": [
    "# Codificando el polinomio \n",
    "def crearPolinomioTaylor(f, c, grado):\n",
    "    polinomio = f.subs(x, sp.UnevaluatedExpr(c))\n",
    "    for j in range(1, grado + 1):\n",
    "        derivada = sp.diff(f, x, j).subs(x, sp.UnevaluatedExpr(c)) # j-ésima derivada de f respecto a x, evaluada en c\n",
    "        terminoIndependiente = (x - sp.UnevaluatedExpr(c)) ** j # (x - c)^j\n",
    "        polinomio += (derivada / factorial(j)) * terminoIndependiente # (f^(j)(c) / j!) * (x - c)^j\n",
    "    polinomio = sp.simplify(polinomio)\n",
    "    polinomio = ut.convertirFuncion(str(polinomio))\n",
    "    return polinomio\n",
    "\n",
    "def Polinomio_Taylor(f, c, grado): \n",
    "    c = np.round(c, 2)\n",
    "    valores_x = np.linspace(c - 5, c + 10, 500) if c != 0 else np.linspace(-5, 10, 500)\n",
    "    if np.isnan(f.f(c)) or np.isinf(f.f(c)):\n",
    "        print('La funcion no esta definida para el punto c, se debe cambiar el punto c.')\n",
    "        return\n",
    "    yReal = list(map(f.f, valores_x))\n",
    "    pTaylor = crearPolinomioTaylor(f.f_, c, grado)\n",
    "    yTaylor = list(map(pTaylor.f, valores_x))\n",
    "    ut.graficarTaylor(f, valores_x, yReal, yTaylor, grado, pTaylor.f_text, c)"
   ]
  },
  {
   "cell_type": "markdown",
   "id": "34d9c65c",
   "metadata": {},
   "source": [
    "Ejecuta esta celda cada que quieras ingresar una nueva función y calcular su polinomio de Taylor. Si quieres variar el punto de centrado o el grado lo puedes hacer sin tener que volver a ingresar la funcion. Puedes interactuar con la gráfica para ver los valores de la función y el polinomio de Taylor en cualquier punto. Tienes la opcion de moverte en la grafica, hacer zoom, guardar la imagen, entre otras acciones."
   ]
  },
  {
   "cell_type": "code",
   "execution_count": null,
   "id": "42df7db3-fb3f-4530-9f73-e6368f8c8686",
   "metadata": {
    "tags": []
   },
   "outputs": [],
   "source": [
    "# Celda usuario\n",
    "f = ut.leerFuncion()\n",
    "if f != None:\n",
    "    interact(Polinomio_Taylor,\n",
    "             f = fixed(f),\n",
    "             c = FloatText(value = 1, description='c', disabled=False),\n",
    "             grado = BoundedIntText(value=1, min=1, description='grado', disabeled=False))"
   ]
  },
  {
   "cell_type": "markdown",
   "id": "94b28c00",
   "metadata": {
    "jp-MarkdownHeadingCollapsed": true,
    "tags": []
   },
   "source": [
    "### Vídeos de apoyo"
   ]
  },
  {
   "cell_type": "markdown",
   "id": "32c6cde1-91b4-4dfb-89a2-1db35257786f",
   "metadata": {
    "tags": []
   },
   "source": [
    "Ejecuta la siguiente celda para ver los videos recomendados."
   ]
  },
  {
   "cell_type": "code",
   "execution_count": null,
   "id": "423f8416",
   "metadata": {
    "tags": []
   },
   "outputs": [],
   "source": [
    "from IPython.display import YouTubeVideo\n",
    "ytv = YouTubeVideo('DvkZwX2ixOM')\n",
    "ytv2 = YouTubeVideo('fzP0HSPvWjE')\n",
    "display(ytv)\n",
    "display(ytv2)"
   ]
  },
  {
   "cell_type": "markdown",
   "id": "7d398a10",
   "metadata": {},
   "source": [
    "### Referencias"
   ]
  },
  {
   "cell_type": "markdown",
   "id": "1b63d8b8",
   "metadata": {},
   "source": [
    "   [1] The Editors of Encyclopaedia Britannica. (2023, 14 agosto). Brook Taylor | Calculus, Geometry & Physics. Encyclopedia Britannica. Retrieved September 7, 2023, from [https://www.britannica.com/biography/Brook-Taylor](https://www.britannica.com/biography/Brook-Taylor)\n",
    "   \n",
    "   [2] Brisset, J. (2006). Polinomios de Taylor. ANEP. Retrieved September 7, 2023, from [https://anep.edu.uy/ipa-fisica/document/material/segundo/mat_2/teorico/taylor.pdf](https://anep.edu.uy/ipa-fisica/document/material/segundo/mat_2/teorico/taylor.pdf)\n",
    "   "
   ]
  }
 ],
 "metadata": {
  "kernelspec": {
   "display_name": ".venv",
   "language": "python",
   "name": "python3"
  },
  "language_info": {
   "codemirror_mode": {
    "name": "ipython",
    "version": 3
   },
   "file_extension": ".py",
   "mimetype": "text/x-python",
   "name": "python",
   "nbconvert_exporter": "python",
   "pygments_lexer": "ipython3",
   "version": "3.12.3"
  }
 },
 "nbformat": 4,
 "nbformat_minor": 5
}
